{
 "cells": [
  {
   "cell_type": "markdown",
   "metadata": {},
   "source": [
    "# Ridge & Lasso Regression Programming Assignment "
   ]
  },
  {
   "cell_type": "code",
   "execution_count": 98,
   "metadata": {},
   "outputs": [],
   "source": [
    "# Run the code cell below\n",
    "import numpy as np\n",
    "import pandas as pd\n",
    "import matplotlib.pyplot as plt\n",
    "import sklearn.preprocessing\n",
    "from sklearn import linear_model\n",
    "import sklearn.model_selection\n",
    "% matplotlib inline"
   ]
  },
  {
   "cell_type": "markdown",
   "metadata": {},
   "source": [
    "# Data Import\n",
    "Import the data from the file College.csv"
   ]
  },
  {
   "cell_type": "code",
   "execution_count": 99,
   "metadata": {},
   "outputs": [],
   "source": [
    "df = pd.read_csv(\"College.csv\")\n",
    "\n",
    "# Convert df into a numpy array using df.values\n",
    "data = df.values\n",
    "# Below code drops first 2 columns and selects the rest of the columns\n",
    "data1 = data[:,2:19]\n",
    "# Store Values of all Rows of Columns 0:16 in X and Values of last column in Y from data1 \n",
    "X = data1[:,:16]\n",
    "Y = data1[:,16:]"
   ]
  },
  {
   "cell_type": "markdown",
   "metadata": {},
   "source": [
    "# Splitting Data Into Training And Test Set.\n",
    "Take first 390 rows as training set and the remaining rows as test set."
   ]
  },
  {
   "cell_type": "code",
   "execution_count": 107,
   "metadata": {},
   "outputs": [
    {
     "name": "stderr",
     "output_type": "stream",
     "text": [
      "C:\\Users\\Owner\\Anaconda3\\lib\\site-packages\\sklearn\\utils\\validation.py:475: DataConversionWarning: Data with input dtype object was converted to float64 by StandardScaler.\n",
      "  warnings.warn(msg, DataConversionWarning)\n"
     ]
    }
   ],
   "source": [
    "X_tr = X[:390,:] \n",
    "Y_tr = Y[:390,:]\n",
    "X_test = X[390:,:]\n",
    "Y_test = Y[390:,:]\n",
    "\n",
    "scalar = preprocessing.StandardScaler().fit(X_tr)\n",
    "X_train_scaled = scalar.transform(X_tr)\n",
    "X_test_scaled = scalar.transform(X_test)"
   ]
  },
  {
   "cell_type": "markdown",
   "metadata": {},
   "source": [
    "# Fitting Linear Model\n",
    "In the below code cell, fit a linear model and print the testset error. You can use sklearn's linear_model to find the fit."
   ]
  },
  {
   "cell_type": "code",
   "execution_count": 112,
   "metadata": {},
   "outputs": [
    {
     "name": "stdout",
     "output_type": "stream",
     "text": [
      "R-sq=0.3551767664294182\n"
     ]
    }
   ],
   "source": [
    "# Linear Model\n",
    "reg = linear_model.LinearRegression().fit(X_tr, Y_tr)\n",
    "print(\"R-sq=\", reg.score(X_test, Y_test), sep=\"\")"
   ]
  },
  {
   "cell_type": "markdown",
   "metadata": {},
   "source": [
    "# Ridge Regression\n",
    "In the below code cell, fit a ridge model using linear_model.ridge(warm_start=True, fit_intercept = True). The alphas variable contaings 100 values of regularization parameter. Fit 100 models with these 100 different values of alphas and find test errors for all these 100 models and plot test error v/s alpha.\n",
    "Note: In lecture, we used the letter lambda for regularization but in sklearn, they use alpha. So, in this programming assignment, we prefer to use alpha for the regularization parameter. "
   ]
  },
  {
   "cell_type": "code",
   "execution_count": 113,
   "metadata": {},
   "outputs": [],
   "source": [
    "# Ridge Model\n",
    "model = linear_model.Ridge(fit_intercept=True)\n",
    "# The code below \n",
    "nalpha = 100\n",
    "alphas = np.logspace(-3,1,nalpha)\n",
    "# Write code for finding costs for all the 100 models. YOu may use a for loop for this.\n",
    "\n",
    "rsq = []\n",
    "for a in alphas :\n",
    "    model.set_params(alpha=a)\n",
    "    rsq.append(model.fit(X_train_scaled, Y_tr).score(X_test_scaled, Y_test))"
   ]
  },
  {
   "cell_type": "markdown",
   "metadata": {},
   "source": [
    "# Plotting Test Error v/s Alphas\n",
    "Write code to plot test errors v/s alphas in the code cell below."
   ]
  },
  {
   "cell_type": "code",
   "execution_count": 114,
   "metadata": {},
   "outputs": [
    {
     "data": {
      "image/png": "[encoded data removed]",
      "text/plain": [
       "<Figure size 432x288 with 1 Axes>"
      ]
     },
     "metadata": {},
     "output_type": "display_data"
    }
   ],
   "source": [
    "# Write the code below\n",
    "plt.plot(alphas, rsq, 'bo-')\n",
    "plt.title(\"Ridge Regression Alpha Test Errors\")\n",
    "plt.xlabel(\"alpha\")\n",
    "plt.ylabel(\"test error (R-sq)\")\n",
    "plt.show()"
   ]
  },
  {
   "cell_type": "markdown",
   "metadata": {},
   "source": [
    "# Lasso Regression\n",
    "In the below code cell, fit a lasso model using linear_model.Lasso(warm_start=True, fit_intercept = True). The alphas variable contaings 100 values of regularization parameter. Fit 100 models with these 100 different values of alphas and find test errors for all these 100 models and plot test error v/s alpha.\n",
    "Note: In lecture, we used the letter lambda for regularization but in sklearn, they use alpha. So, in this programming assignment, we prefer to use alpha for the regularization parameter. "
   ]
  },
  {
   "cell_type": "code",
   "execution_count": 121,
   "metadata": {},
   "outputs": [
    {
     "name": "stdout",
     "output_type": "stream",
     "text": [
      "[array([ 4.79925998,  2.08563481, -2.4414396 ,  1.52269843,  4.31765061,\n",
      "       -2.92435652, -0.98787665,  2.53607697,  3.41834549, -0.24648555,\n",
      "       -0.07923682,  0.50284764, -0.53398021,  0.03674437,  3.85729801,\n",
      "       -3.64312354]), array([ 4.79860557,  2.08498867, -2.4401629 ,  1.52256357,  4.3176062 ,\n",
      "       -2.92436521, -0.98784381,  2.5360389 ,  3.41828591, -0.24643263,\n",
      "       -0.07921475,  0.50216845, -0.5331701 ,  0.03654514,  3.85709519,\n",
      "       -3.64269451]), array([ 4.79786951,  2.08402821, -2.43851158,  1.52242462,  4.31756059,\n",
      "       -2.92437334, -0.98780007,  2.53603112,  3.41823402, -0.24638852,\n",
      "       -0.07919231,  0.50131337, -0.53219802,  0.03634212,  3.85684769,\n",
      "       -3.6422041 ]), array([ 4.79712429,  2.08276725, -2.43655274,  1.52224918,  4.31752151,\n",
      "       -2.9243836 , -0.98775001,  2.53606106,  3.41818046, -0.24634351,\n",
      "       -0.07917163,  0.50034758, -0.53110473,  0.03611609,  3.85656234,\n",
      "       -3.64168245]), array([ 4.79638517,  2.08122424, -2.43431395,  1.52202533,  4.31748994,\n",
      "       -2.92439741, -0.98769343,  2.53611775,  3.4181205 , -0.24629451,\n",
      "       -0.07915232,  0.49928156, -0.52989569,  0.03586361,  3.85624509,\n",
      "       -3.64112412]), array([ 4.79564687,  2.0794148 , -2.43180309,  1.52175154,  4.31746591,\n",
      "       -2.9244167 , -0.98763038,  2.53619542,  3.41805201, -0.24624026,\n",
      "       -0.07913381,  0.49811097, -0.52856472,  0.03558314,  3.85589551,\n",
      "       -3.6405233 ]), array([ 4.79489557,  2.07734752, -2.42901429,  1.52142844,  4.31744838,\n",
      "       -2.92444269, -0.98756063,  2.5362908 ,  3.41797401, -0.24618008,\n",
      "       -0.07911543,  0.49682667, -0.52710156,  0.03527271,  3.85551169,\n",
      "       -3.6398733 ]), array([ 4.79760516,  2.06770767, -2.42139585,  1.51972381,  4.31805963,\n",
      "       -2.92497811, -0.98739199,  2.53749015,  3.41785046, -0.24618197,\n",
      "       -0.07924511,  0.49465595, -0.52472425,  0.03484619,  3.85479608,\n",
      "       -3.63975724]), array([ 4.79645391,  2.06687655, -2.41943794,  1.51938407,  4.31795723,\n",
      "       -2.92496241, -0.98733134,  2.53728582,  3.41769617, -0.24605333,\n",
      "       -0.07919537,  0.49354376, -0.52332264,  0.03443809,  3.85450947,\n",
      "       -3.63889929]), array([ 4.79506083,  2.06557247, -2.416817  ,  1.51911391,  4.3178562 ,\n",
      "       -2.92495439, -0.98726451,  2.53719751,  3.41756962, -0.24594171,\n",
      "       -0.07914758,  0.49211258, -0.52161669,  0.03401962,  3.8540845 ,\n",
      "       -3.63799348]), array([ 4.79342534,  2.0631674 , -2.41291812,  1.51887623,  4.31776426,\n",
      "       -2.92497213, -0.98715944,  2.53722557,  3.41748763, -0.24587972,\n",
      "       -0.07910172,  0.49006516, -0.51938799,  0.03364075,  3.85350601,\n",
      "       -3.6369057 ]), array([ 4.79562606,  2.0521153 , -2.40346973,  1.51707003,  4.31835206,\n",
      "       -2.92548111, -0.98695326,  2.53860204,  3.41736537, -0.24586955,\n",
      "       -0.07922847,  0.48716402, -0.51620463,  0.03305342,  3.85253167,\n",
      "       -3.63650204]), array([ 4.7939707 ,  2.05088985, -2.40062886,  1.51657276,  4.31820445,\n",
      "       -2.92545239, -0.98686556,  2.5383081 ,  3.41714072, -0.24568271,\n",
      "       -0.07915679,  0.48555083, -0.51417063,  0.03246061,  3.85211578,\n",
      "       -3.63525963]), array([ 4.79178757,  2.04811806, -2.39584854,  1.51629395,  4.31808099,\n",
      "       -2.92548339, -0.98673878,  2.53829107,  3.41701906, -0.24558829,\n",
      "       -0.07909282,  0.48294103, -0.51130301,  0.03196271,  3.85136327,\n",
      "       -3.63383895]), array([ 4.79359471,  2.0359465 , -2.38489402,  1.51431327,  4.31865851,\n",
      "       -2.92600783, -0.98649855,  2.53975506,  3.41686126, -0.24554553,\n",
      "       -0.0792116 ,  0.47940176, -0.50737698,  0.03119537,  3.85018647,\n",
      "       -3.63313237]), array([ 4.79140711,  2.03431902, -2.38113797,  1.51365635,  4.31846246,\n",
      "       -2.92596391, -0.98638282,  2.53936789,  3.41656457, -0.24529858,\n",
      "       -0.07911701,  0.47726959, -0.50468822,  0.03041153,  3.84963614,\n",
      "       -3.63149017]), array([ 4.79187579,  2.0223958 , -2.36929816,  1.51200158,  4.31891609,\n",
      "       -2.9264618 , -0.98611628,  2.54071926,  3.4164382 , -0.24527352,\n",
      "       -0.07919678,  0.47288286, -0.49996456,  0.02963594,  3.84821794,\n",
      "       -3.6303006 ]), array([ 4.78914331,  2.02001502, -2.36430481,  1.51129736,  4.31869333,\n",
      "       -2.9264298 , -0.98596222,  2.54030162,  3.41611618, -0.24501331,\n",
      "       -0.0790864 ,  0.47002944, -0.49652128,  0.02876622,  3.8474715 ,\n",
      "       -3.62826181]), array([ 4.78987008,  2.00598104, -2.35049078,  1.50919516,  4.31923299,\n",
      "       -2.92699639, -0.98565615,  2.54189268,  3.41592562, -0.24494513,\n",
      "       -0.07918118,  0.46503238, -0.49103409,  0.02775451,  3.84584622,\n",
      "       -3.62689997]), array([ 4.78651039,  2.00221472, -2.34354489,  1.50846601,  4.31901464,\n",
      "       -2.92702429, -0.98545654,  2.54157777,  3.41559999, -0.24469116,\n",
      "       -0.07906165,  0.4611347 , -0.48653278,  0.02679649,  3.84476844,\n",
      "       -3.62444544]), array([ 4.78737872,  1.9863134 , -2.32788149,  1.50584433,  4.31960296,\n",
      "       -2.92763208, -0.98510277,  2.54329323,  3.41531183, -0.24455043,\n",
      "       -0.0791599 ,  0.45557551, -0.48028003,  0.02549165,  3.84298959,\n",
      "       -3.62279195]), array([ 4.78370223,  1.97976379, -2.31778317,  1.50484719,  4.31946181,\n",
      "       -2.92777887, -0.98484433,  2.54337345,  3.41498163, -0.24430469,\n",
      "       -0.07904891,  0.45037409, -0.47440975,  0.02432053,  3.84148127,\n",
      "       -3.62001823]), array([ 4.78445895,  1.9625306 , -2.30060923,  1.50177583,  4.32006281,\n",
      "       -2.92841599, -0.98443516,  2.54499042,  3.41456771, -0.24407387,\n",
      "       -0.07913653,  0.4441853 , -0.46732386,  0.0227628 ,  3.83955009,\n",
      "       -3.61785635]), array([ 4.78245482,  1.94944656, -2.28521597,  1.49956572,  4.3202828 ,\n",
      "       -2.92887055, -0.98405562,  2.54588586,  3.41414992, -0.24380209,\n",
      "       -0.07910971,  0.43764153, -0.45989846,  0.02121214,  3.83758497,\n",
      "       -3.61496763]), array([ 4.78068294,  1.93432159, -2.267951  ,  1.49697335,  4.32058288,\n",
      "       -2.929369  , -0.98363342,  2.54697493,  3.41367983, -0.24350161,\n",
      "       -0.07909812,  0.43046315, -0.45172951,  0.01948872,  3.83541402,\n",
      "       -3.61186867]), array([ 4.778638  ,  1.91790718, -2.24910245,  1.49416904,  4.32089709,\n",
      "       -2.92990887, -0.98317192,  2.54814432,  3.41316629, -0.24317224,\n",
      "       -0.0790811 ,  0.42258442, -0.44276884,  0.01760232,  3.83303508,\n",
      "       -3.60845068]), array([ 4.7763726 ,  1.89991718, -2.22842673,  1.49109971,  4.32123828,\n",
      "       -2.93049687, -0.98266569,  2.54942494,  3.41260389, -0.24281104,\n",
      "       -0.07906182,  0.4139374 , -0.43293529,  0.01553285,  3.8304239 ,\n",
      "       -3.60469617]), array([ 4.77412159,  1.87982842, -2.20557529,  1.4876381 ,  4.32164969,\n",
      "       -2.93117008, -0.98210693,  2.55087439,  3.41197647, -0.24241237,\n",
      "       -0.07904881,  0.40444879, -0.42213321,  0.01325101,  3.82755619,\n",
      "       -3.60061348]), array([ 4.77144692,  1.85808828, -2.18063745,  1.48391923,  4.32206997,\n",
      "       -2.93188951, -0.98149634,  2.55242543,  3.41129633, -0.24197668,\n",
      "       -0.07902729,  0.39403372, -0.41028657,  0.01075605,  3.82441121,\n",
      "       -3.5960997 ]), array([ 4.76848149,  1.83426422, -2.1532851 ,  1.47985001,  4.32252578,\n",
      "       -2.93267121, -0.98082671,  2.55412369,  3.41055159, -0.24149891,\n",
      "       -0.0790028 ,  0.38260306, -0.39728603,  0.00801903,  3.8209592 ,\n",
      "       -3.59114116]), array([ 4.7652236 ,  1.80812214, -2.12326922,  1.47538559,  4.3230253 ,\n",
      "       -2.93352762, -0.98009189,  2.55598694,  3.40973437, -0.24097458,\n",
      "       -0.07897582,  0.37005788, -0.38301804,  0.00501528,  3.81717062,\n",
      "       -3.58569864]), array([ 4.76197229e+00,  1.77896606e+00, -2.09011436e+00,  1.47035776e+00,\n",
      "        4.32362473e+00, -2.93450756e+00, -9.79281158e-01,  2.55809052e+00,\n",
      "        3.40882292e+00, -2.40395848e-01, -7.89572388e-02,  3.56292156e-01,\n",
      "       -3.67346015e-01,  1.70421582e-03,  3.81301078e+00, -3.57977740e+00]), array([ 4.75818077,  1.74732304, -2.05387634,  1.46488597,  4.32438225,\n",
      "       -2.93610888, -0.9783924 ,  2.56064693,  3.40788997, -0.23977138,\n",
      "       -0.07891947,  0.34096813, -0.34998798,  0.        ,  3.80855839,\n",
      "       -3.5725155 ]), array([ 4.75370525,  1.71303707, -2.01417001,  1.4589489 ,  4.32531185,\n",
      "       -2.938472  , -0.97741555,  2.56369583,  3.40693762, -0.23909926,\n",
      "       -0.07886008,  0.32392066, -0.33076992,  0.        ,  3.80376258,\n",
      "       -3.56380058]), array([ 4.74909701,  1.67490568, -1.97026758,  1.45229509,  4.32639341,\n",
      "       -2.94116955, -0.97633456,  2.56710962,  3.40588293, -0.2383593 ,\n",
      "       -0.07880683,  0.30521577, -0.30966851,  0.        ,  3.79849435,\n",
      "       -3.55427996]), array([ 4.74373372,  1.63348475, -1.92227492,  1.44511307,  4.3275313 ,\n",
      "       -2.94408864, -0.9751519 ,  2.57080043,  3.40473928, -0.23755042,\n",
      "       -0.0787382 ,  0.28468588, -0.28652284,  0.        ,  3.79271323,\n",
      "       -3.54378732]), array([ 4.73782709,  1.58805689, -1.86962396,  1.43724003,  4.32877587,\n",
      "       -2.94728415, -0.97385455,  2.57484693,  3.40348489, -0.23666283,\n",
      "       -0.07866214,  0.26215442, -0.26112143,  0.        ,  3.78636863,\n",
      "       -3.53226866]), array([ 4.73134886,  1.53820005, -1.81184214,  1.4285979 ,  4.33014257,\n",
      "       -2.95079247, -0.97243076,  2.5792876 ,  3.40210767, -0.23568857,\n",
      "       -0.07857867,  0.23742613, -0.23324324,  0.        ,  3.77940586,\n",
      "       -3.5196275 ]), array([ 4.72424548,  1.48347876, -1.74842622,  1.41911061,  4.33164384,\n",
      "       -2.95464539, -0.97086808,  2.58416135,  3.4005956 , -0.23461919,\n",
      "       -0.07848715,  0.21028682, -0.20264671,  0.        ,  3.77176463,\n",
      "       -3.5057547 ]), array([ 4.71680105,  1.42297763, -1.67862921,  1.40855734,  4.33335231,\n",
      "       -2.95894613, -0.96914835,  2.58956516,  3.39891774, -0.23344116,\n",
      "       -0.07839741,  0.18050281, -0.16905279,  0.        ,  3.76338119,\n",
      "       -3.49057906]), array([ 4.70828273,  1.35702726, -1.60222229,  1.3971134 ,  4.33516883,\n",
      "       -2.96360446, -0.96726522,  2.59543962,  3.39709403, -0.23215251,\n",
      "       -0.07828812,  0.14781321, -0.13219763,  0.        ,  3.75417836,\n",
      "       -3.47387451]), array([ 4.69892196,  1.28466804, -1.51838138,  1.38455947,  4.33715978,\n",
      "       -2.96871146, -0.96519896,  2.60188393,  3.39509279, -0.23073829,\n",
      "       -0.07816767,  0.11193623, -0.0917495 ,  0.        ,  3.74407854,\n",
      "       -3.45553954]), array([ 4.68865315,  1.20525146, -1.42636517,  1.37077965,  4.33934589,\n",
      "       -2.97431887, -0.96293116,  2.60895663,  3.39289602, -0.2291861 ,\n",
      "       -0.07803554,  0.07256115, -0.04735748,  0.        ,  3.73299429,\n",
      "       -3.43541757]), array([ 4.67723209,  1.11816699, -1.32533595,  1.35545365,  4.34190873,\n",
      "       -2.98041281, -0.9603884 ,  2.61682728,  3.39054829, -0.22743723,\n",
      "       -0.0779309 ,  0.03041725, -0.        ,  0.        ,  3.72095345,\n",
      "       -3.41326586]), array([ 4.6598071 ,  1.02417227, -1.2129941 ,  1.32954353,  4.35149719,\n",
      "       -2.98440213, -0.95564439,  2.62949168,  3.39028939, -0.2236378 ,\n",
      "       -0.07941537,  0.02595688, -0.        ,  0.        ,  3.71244836,\n",
      "       -3.38621054]), array([ 4.64041666,  0.9214687 , -1.08998685,  1.30122569,  4.36196985,\n",
      "       -2.98870006, -0.95044566,  2.64332786,  3.39001262, -0.21947019,\n",
      "       -0.08103351,  0.02104968, -0.        ,  0.        ,  3.70311872,\n",
      "       -3.35647801]), array([ 4.61912526,  0.80876921, -0.9549977 ,  1.27015178,  4.3734614 ,\n",
      "       -2.99341373, -0.94474036,  2.65851067,  3.38970917, -0.21489633,\n",
      "       -0.08280899,  0.01566357, -0.        ,  0.        ,  3.6928796 ,\n",
      "       -3.32384515]), array([ 4.59576165,  0.68507825, -0.80684382,  1.2360463 ,  4.38607444,\n",
      "       -2.9985903 , -0.93847863,  2.67517409,  3.3893759 , -0.20987647,\n",
      "       -0.08475767,  0.00975239, -0.        ,  0.        ,  3.68164234,\n",
      "       -3.28803115]), array([ 4.57048011e+00,  5.48898600e-01, -6.44045684e-01,  1.19846337e+00,\n",
      "        4.39998653e+00, -3.00436663e+00, -9.31600446e-01,  2.69351387e+00,\n",
      "        3.38899048e+00, -2.04361605e-01, -8.69072131e-02,  3.27874758e-03,\n",
      "       -0.00000000e+00,  0.00000000e+00,  3.66931582e+00, -3.24877502e+00]), array([ 4.54307361,  0.39911062, -0.46569775,  1.156519  ,  4.41460786,\n",
      "       -3.0111482 , -0.92446916,  2.71282663,  3.38821654, -0.19792265,\n",
      "       -0.08925072,  0.        , -0.        ,  0.        ,  3.65546905,\n",
      "       -3.20586075]), array([ 4.51359528,  0.23395747, -0.27010966,  1.10968095,  4.43012956,\n",
      "       -3.01896377, -0.91703042,  2.73334195,  3.38703282, -0.19049256,\n",
      "       -0.09181878,  0.        , -0.        ,  0.        ,  3.6399637 ,\n",
      "       -3.15896595]), array([ 4.48125126,  0.05267431, -0.05541905,  1.05826947,  4.44716845,\n",
      "       -3.02755495, -0.90886524,  2.75586164,  3.38573423, -0.18233819,\n",
      "       -0.09463787,  0.        , -0.        ,  0.        ,  3.62294573,\n",
      "       -3.10750029]), array([ 4.40257977,  0.        , -0.        ,  1.03042001,  4.45148365,\n",
      "       -2.9598178 , -0.90617619,  2.75809409,  3.38167655, -0.17240884,\n",
      "       -0.09445545,  0.        , -0.        , -0.        ,  3.60921402,\n",
      "       -3.04226968]), array([ 4.29943209,  0.        , -0.        ,  1.01004268,  4.45212953,\n",
      "       -2.86579145, -0.90516295,  2.75123316,  3.37616858, -0.1611484 ,\n",
      "       -0.09293841,  0.        , -0.        , -0.        ,  3.59598056,\n",
      "       -2.96763172]), array([ 4.18300257,  0.        , -0.        ,  0.98891697,  4.45174551,\n",
      "       -2.75978945, -0.90413574,  2.74398285,  3.37047274, -0.14886757,\n",
      "       -0.09128288,  0.        , -0.        , -0.        ,  3.58124772,\n",
      "       -2.88512479]), array([ 4.05477325,  0.        , -0.        ,  0.96592134,  4.4511753 ,\n",
      "       -2.64307385, -0.9030223 ,  2.73603666,  3.36426829, -0.13540085,\n",
      "       -0.08946969,  0.        , -0.        , -0.        ,  3.56503755,\n",
      "       -2.79448065]), array([ 3.91439897,  0.        , -0.        ,  0.94061174,  4.4506107 ,\n",
      "       -2.51527921, -0.90178802,  2.72731966,  3.35742163, -0.12061309,\n",
      "       -0.08747562,  0.        ,  0.        , -0.        ,  3.5472762 ,\n",
      "       -2.69510134]), array([ 3.76034398,  0.        , -0.        ,  0.91282842,  4.44999556,\n",
      "       -2.37502955, -0.90043328,  2.71775204,  3.34990684, -0.10438335,\n",
      "       -0.08528712,  0.        ,  0.        , -0.        ,  3.52778381,\n",
      "       -2.58603251]), array([ 3.59089302,  0.        , -0.        ,  0.88243873,  4.44923839,\n",
      "       -2.22078976, -0.89895941,  2.70725051,  3.34169858, -0.0865801 ,\n",
      "       -0.08288934,  0.        ,  0.        , -0.        ,  3.50635801,\n",
      "       -2.46623107]), array([ 3.40529154,  0.        , -0.        ,  0.84898966,  4.44848496,\n",
      "       -2.0518234 , -0.89732898,  2.69572692,  3.33265134, -0.06703237,\n",
      "       -0.08025369,  0.        ,  0.        , -0.        ,  3.48287552,\n",
      "       -2.33484802]), array([ 3.20124751,  0.        , -0.        ,  0.81238424,  4.44757608,\n",
      "       -1.86609173, -0.89555175,  2.68308021,  3.32275814, -0.04558709,\n",
      "       -0.07736474,  0.        ,  0.        , -0.        ,  3.457072  ,\n",
      "       -2.19056833]), array([ 2.97765707,  0.        , -0.        ,  0.77210409,  4.44666122,\n",
      "       -1.66254361, -0.89358906,  2.66919994,  3.31186413, -0.02204256,\n",
      "       -0.07419044,  0.        ,  0.        , -0.        ,  3.4287843 ,\n",
      "       -2.03230856]), array([ 2.73185404,  0.        , -0.        ,  0.72834874,  4.44560817,\n",
      "       -1.43863243, -0.89133296,  2.65392746,  3.30055064, -0.        ,\n",
      "       -0.06993656,  0.        ,  0.        , -0.        ,  3.39766624,\n",
      "       -1.85858681]), array([ 2.45926248,  0.        , -0.        ,  0.68328342,  4.44406395,\n",
      "       -1.18943023, -0.88821519,  2.63694014,  3.29221987, -0.        ,\n",
      "       -0.06036655,  0.        ,  0.        , -0.        ,  3.36303125,\n",
      "       -1.6676722 ]), array([ 2.16040535,  0.        , -0.        ,  0.63374399,  4.44243267,\n",
      "       -0.91619242, -0.88478169,  2.6182978 ,  3.28304622, -0.        ,\n",
      "       -0.04985839,  0.        ,  0.        , -0.        ,  3.32504787,\n",
      "       -1.45822671]), array([ 1.83241283,  0.        , -0.        ,  0.5793709 ,  4.44064504,\n",
      "       -0.61631667, -0.88101337,  2.5978374 ,  3.27297788, -0.        ,\n",
      "       -0.03832569,  0.        ,  0.        , -0.        ,  3.28336151,\n",
      "       -1.22836027]), array([ 1.47206148,  0.        , -0.        ,  0.51985354,  4.43856257,\n",
      "       -0.28688363, -0.87689115,  2.5753916 ,  3.26196507, -0.        ,\n",
      "       -0.02567401,  0.        ,  0.        , -0.        ,  3.23757381,\n",
      "       -0.97600297]), array([ 1.13571577,  0.        , -0.        ,  0.44333797,  4.44861678,\n",
      "       -0.        , -0.85749782,  2.53794784,  3.24457761, -0.        ,\n",
      "       -0.01102872,  0.        ,  0.        , -0.        ,  3.19135176,\n",
      "       -0.70727593]), array([ 1.01951637,  0.        , -0.        ,  0.29884646,  4.52074861,\n",
      "       -0.        , -0.77384847,  2.43997896,  3.20204008, -0.        ,\n",
      "       -0.        ,  0.        ,  0.        , -0.        ,  3.15745215,\n",
      "       -0.44311423]), array([ 0.89300771,  0.        , -0.        ,  0.1406671 ,  4.59931821,\n",
      "       -0.        , -0.68056532,  2.32901359,  3.15416272, -0.        ,\n",
      "       -0.        ,  0.        ,  0.        , -0.        ,  3.11856191,\n",
      "       -0.15157623]), array([ 0.77638662,  0.        , -0.        ,  0.07714712,  4.62385223,\n",
      "       -0.        , -0.58396556,  2.27986589,  3.10799851, -0.        ,\n",
      "       -0.        ,  0.        ,  0.        , -0.        ,  3.07908133,\n",
      "       -0.        ]), array([ 0.67091827,  0.        , -0.        ,  0.11273571,  4.59216777,\n",
      "       -0.        , -0.48378623,  2.29806092,  3.06372128, -0.        ,\n",
      "       -0.        ,  0.        ,  0.        , -0.        ,  3.03941125,\n",
      "       -0.        ]), array([ 0.55460131,  0.        , -0.        ,  0.1556514 ,  4.55462585,\n",
      "       -0.        , -0.37362749,  2.31775129,  3.01506415, -0.        ,\n",
      "       -0.        ,  0.        ,  0.        , -0.        ,  2.9954655 ,\n",
      "       -0.        ]), array([ 0.42697833,  0.        , -0.        ,  0.2024967 ,  4.51360893,\n",
      "       -0.        , -0.25274237,  2.33938033,  2.96166764, -0.        ,\n",
      "       -0.        ,  0.        ,  0.        , -0.        ,  2.9472603 ,\n",
      "       -0.        ]), array([ 0.28686009,  0.        ,  0.        ,  0.25427511,  4.4683292 ,\n",
      "       -0.        , -0.12005111,  2.36309128,  2.90305887, -0.        ,\n",
      "       -0.        ,  0.        ,  0.        , -0.        ,  2.89431739,\n",
      "       -0.        ]), array([ 0.14439122,  0.        ,  0.        ,  0.30552614,  4.42108808,\n",
      "       -0.        , -0.        ,  2.38509857,  2.83894607, -0.        ,\n",
      "       -0.        ,  0.        ,  0.        , -0.        ,  2.8313919 ,\n",
      "       -0.        ]), array([ 0.04624289,  0.        ,  0.        ,  0.33408862,  4.38109079,\n",
      "       -0.        , -0.        ,  2.3885172 ,  2.76962595, -0.        ,\n",
      "       -0.        ,  0.        ,  0.        , -0.        ,  2.73738417,\n",
      "       -0.        ]), array([ 0.        ,  0.        ,  0.        ,  0.34506919,  4.32588209,\n",
      "       -0.        , -0.        ,  2.39683986,  2.68363629, -0.        ,\n",
      "       -0.        ,  0.        ,  0.        , -0.        ,  2.6514062 ,\n",
      "       -0.        ]), array([ 0.        ,  0.        ,  0.        ,  0.34013838,  4.25607074,\n",
      "       -0.        , -0.        ,  2.40976202,  2.5810827 , -0.        ,\n",
      "       -0.        ,  0.        ,  0.        , -0.        ,  2.57126181,\n",
      "        0.        ]), array([ 0.        ,  0.        ,  0.        ,  0.33462286,  4.17953416,\n",
      "       -0.        , -0.        ,  2.42395179,  2.46853439, -0.        ,\n",
      "       -0.        ,  0.        ,  0.        , -0.        ,  2.48331214,\n",
      "        0.        ]), array([ 0.        ,  0.        ,  0.        ,  0.32891728,  4.0952634 ,\n",
      "       -0.        , -0.        ,  2.43949993,  2.34499875, -0.        ,\n",
      "       -0.        ,  0.        ,  0.        , -0.        ,  2.38675813,\n",
      "        0.        ]), array([ 0.        ,  0.        ,  0.        ,  0.32231046,  4.00304616,\n",
      "       -0.        , -0.        ,  2.45658891,  2.20943243, -0.        ,\n",
      "       -0.        ,  0.        ,  0.        , -0.        ,  2.28081933,\n",
      "        0.        ]), array([ 0.        ,  0.        ,  0.        ,  0.31539225,  3.90157758,\n",
      "       -0.        , -0.        ,  2.47532007,  2.06063513, -0.        ,\n",
      "       -0.        ,  0.        ,  0.        , -0.        ,  2.16452353,\n",
      "        0.        ]), array([ 0.        ,  0.        ,  0.        ,  0.30746576,  3.79047698,\n",
      "       -0.        , -0.        ,  2.49590154,  1.89734376, -0.        ,\n",
      "       -0.        ,  0.        ,  0.        , -0.        ,  2.03691722,\n",
      "        0.        ]), array([ 0.        ,  0.        ,  0.        ,  0.29908857,  3.66829226,\n",
      "       -0.        , -0.        ,  2.51846651,  1.71811866, -0.        ,\n",
      "       -0.        ,  0.        ,  0.        , -0.        ,  1.89684223,\n",
      "        0.        ]), array([ 0.        ,  0.        ,  0.        ,  0.28985821,  3.53422313,\n",
      "       -0.        , -0.        ,  2.54323417,  1.5214208 , -0.        ,\n",
      "       -0.        ,  0.        ,  0.        , -0.        ,  1.74311318,\n",
      "        0.        ]), array([ 0.        ,  0.        ,  0.        ,  0.27944826,  3.38730118,\n",
      "       -0.        , -0.        ,  2.57043675,  1.30555644, -0.        ,\n",
      "       -0.        ,  0.        ,  0.        , -0.        ,  1.57441937,\n",
      "        0.        ]), array([ 0.        ,  0.        ,  0.        ,  0.26812036,  3.22597859,\n",
      "       -0.        , -0.        ,  2.60028462,  1.06864164, -0.        ,\n",
      "       -0.        ,  0.        ,  0.        , -0.        ,  1.38926992,\n",
      "        0.        ]), array([ 0.        ,  0.        ,  0.        ,  0.25579285,  3.04884519,\n",
      "       -0.        , -0.        ,  2.63303516,  0.80862368, -0.        ,\n",
      "       -0.        ,  0.        ,  0.        , -0.        ,  1.18605976,\n",
      "        0.        ]), array([ 0.        ,  0.        ,  0.        ,  0.24242269,  2.85431683,\n",
      "       -0.        , -0.        ,  2.66896753,  0.52324781, -0.        ,\n",
      "       -0.        ,  0.        ,  0.        , -0.        ,  0.96302336,\n",
      "        0.        ]), array([ 0.        ,  0.        ,  0.        ,  0.22714457,  2.64131984,\n",
      "       -0.        , -0.        ,  2.70844956,  0.2100721 ,  0.        ,\n",
      "       -0.        ,  0.        ,  0.        , -0.        ,  0.71827822,\n",
      "        0.        ]), array([ 0.        ,  0.        ,  0.        ,  0.20055418,  2.41906577,\n",
      "       -0.        , -0.        ,  2.65595748,  0.        ,  0.        ,\n",
      "       -0.        ,  0.        ,  0.        , -0.        ,  0.46756789,\n",
      "        0.        ]), array([ 0.        ,  0.        ,  0.        ,  0.14723113,  2.20071425,\n",
      "       -0.        , -0.        ,  2.43381328,  0.        ,  0.        ,\n",
      "       -0.        ,  0.        ,  0.        , -0.        ,  0.2237816 ,\n",
      "        0.        ]), array([ 0.        ,  0.        ,  0.        ,  0.07998517,  1.95587789,\n",
      "       -0.        , -0.        ,  2.17304713,  0.        ,  0.        ,\n",
      "       -0.        ,  0.        ,  0.        , -0.        ,  0.        ,\n",
      "        0.        ]), array([ 0.        ,  0.        ,  0.        ,  0.        ,  1.62287664,\n",
      "       -0.        , -0.        ,  1.78565418,  0.        ,  0.        ,\n",
      "       -0.        ,  0.        ,  0.        , -0.        ,  0.        ,\n",
      "        0.        ]), array([ 0.        ,  0.        ,  0.        ,  0.        ,  1.1852505 ,\n",
      "       -0.        , -0.        ,  1.34799949,  0.        ,  0.        ,\n",
      "       -0.        ,  0.        ,  0.        , -0.        ,  0.        ,\n",
      "        0.        ]), array([ 0.        ,  0.        ,  0.        ,  0.        ,  0.70489505,\n",
      "       -0.        , -0.        ,  0.86770684,  0.        ,  0.        ,\n",
      "       -0.        ,  0.        ,  0.        , -0.        ,  0.        ,\n",
      "        0.        ]), array([ 0.        ,  0.        ,  0.        ,  0.        ,  0.1777305 ,\n",
      "       -0.        , -0.        ,  0.34057288,  0.        ,  0.        ,\n",
      "       -0.        ,  0.        ,  0.        , -0.        ,  0.        ,\n",
      "        0.        ]), array([ 0.,  0.,  0.,  0.,  0., -0., -0.,  0.,  0.,  0., -0.,  0.,  0.,\n",
      "       -0.,  0.,  0.]), array([ 0.,  0.,  0.,  0.,  0., -0., -0.,  0.,  0.,  0., -0.,  0.,  0.,\n",
      "       -0.,  0.,  0.])]\n"
     ]
    }
   ],
   "source": [
    "# Lasso Model\n",
    "model = linear_model.Lasso(warm_start=True, fit_intercept=True)\n",
    "# The code below \n",
    "nalpha = 100\n",
    "alphas = np.logspace(-3,1,nalpha)\n",
    "# Write code for finding costs for all the 100 models. YOu may use a for loop for this. \n",
    "\n",
    "rsq = []\n",
    "coeffs = []\n",
    "\n",
    "for a in alphas :\n",
    "    model.set_params(alpha=a)\n",
    "    model.fit(X_train_scaled, Y_tr)\n",
    "    rsq.append(model.score(X_test_scaled, Y_test))\n",
    "    coeffs.append(model.coef_)\n",
    "\n",
    "print(coeffs)"
   ]
  },
  {
   "cell_type": "markdown",
   "metadata": {},
   "source": [
    "# Plotting Test Error v/s Alphas\n",
    "Write code to plot test errors v/s alphas in the code cell below."
   ]
  },
  {
   "cell_type": "code",
   "execution_count": 124,
   "metadata": {},
   "outputs": [
    {
     "data": {
      "image/png": "[encoded data removed]",
      "text/plain": [
       "<Figure size 432x288 with 1 Axes>"
      ]
     },
     "metadata": {},
     "output_type": "display_data"
    },
    {
     "name": "stdout",
     "output_type": "stream",
     "text": [
      "Optimal Alpha (w/ Maximum Rsq Value):\n"
     ]
    }
   ],
   "source": [
    "# Write the code below\n",
    "plt.plot(alphas, rsq, 'ro-')\n",
    "plt.title(\"LASSO Regression Alpha Test Errors\")\n",
    "plt.xlabel(\"alpha\")\n",
    "plt.ylabel(\"test error (R-sq)\")\n",
    "plt.show()\n",
    "\n",
    "opt_alpha = alphas[np.argmax(rsq)]\n",
    "opt_coeff = coeffs[np.argmax(rsq)]\n",
    "\n",
    "print(\"Optimal Alpha (w/ Maximum Rsq Value):\")"
   ]
  },
  {
   "cell_type": "markdown",
   "metadata": {},
   "source": [
    "# Number of Non-Zero Coefficients:\n",
    "Find the number of Non-Zero Coefficients in the model you select."
   ]
  },
  {
   "cell_type": "code",
   "execution_count": 129,
   "metadata": {},
   "outputs": [
    {
     "name": "stdout",
     "output_type": "stream",
     "text": [
      "There are 10 nonzero elements.\n"
     ]
    }
   ],
   "source": [
    "# Write the code below\n",
    "zeros = np.count_nonzero(opt_coeff)\n",
    "print(\"There are\", zeros, \"nonzero elements.\")"
   ]
  },
  {
   "cell_type": "code",
   "execution_count": null,
   "metadata": {
    "collapsed": true
   },
   "outputs": [],
   "source": []
  }
 ],
 "metadata": {
  "kernelspec": {
   "display_name": "Python 3",
   "language": "python",
   "name": "python3"
  },
  "language_info": {
   "codemirror_mode": {
    "name": "ipython",
    "version": 3
   },
   "file_extension": ".py",
   "mimetype": "text/x-python",
   "name": "python",
   "nbconvert_exporter": "python",
   "pygments_lexer": "ipython3",
   "version": "3.6.5"
  }
 },
 "nbformat": 4,
 "nbformat_minor": 2
}
