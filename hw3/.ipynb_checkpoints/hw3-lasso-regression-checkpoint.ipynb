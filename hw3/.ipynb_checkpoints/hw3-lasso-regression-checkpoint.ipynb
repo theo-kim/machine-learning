{
 "cells": [
  {
   "cell_type": "markdown",
   "metadata": {},
   "source": [
    "# Ridge & Lasso Regression Programming Assignment "
   ]
  },
  {
   "cell_type": "code",
   "execution_count": 4,
   "metadata": {},
   "outputs": [],
   "source": [
    "# Run the code cell below\n",
    "import numpy as np\n",
    "import pandas as pd\n",
    "import matplotlib.pyplot as plt\n",
    "import sklearn.preprocessing\n",
    "from sklearn import linear_model\n",
    "import sklearn.model_selection\n",
    "% matplotlib inline"
   ]
  },
  {
   "cell_type": "markdown",
   "metadata": {},
   "source": [
    "# Data Import\n",
    "Import the data from the file College.csv"
   ]
  },
  {
   "cell_type": "code",
   "execution_count": 5,
   "metadata": {},
   "outputs": [],
   "source": [
    "df = pd.read_csv(\"College.csv\")\n",
    "\n",
    "# Convert df into a numpy array using df.values\n",
    "data = df.values\n",
    "# Below code drops first 2 columns and selects the rest of the columns\n",
    "data1 = data[:,2:19]\n",
    "# Store Values of all Rows of Columns 0:16 in X and Values of last column in Y from data1 \n",
    "X = data1[:,:16]\n",
    "Y = data1[:,16:]"
   ]
  },
  {
   "cell_type": "markdown",
   "metadata": {},
   "source": [
    "# Splitting Data Into Training And Test Set.\n",
    "Take first 390 rows as training set and the remaining rows as test set."
   ]
  },
  {
   "cell_type": "code",
   "execution_count": 6,
   "metadata": {},
   "outputs": [],
   "source": [
    "X_tr = X[:390,:] \n",
    "Y_tr = Y[:390,:]\n",
    "X_test = X[390:,:]\n",
    "Y_test = Y[390:,:]"
   ]
  },
  {
   "cell_type": "markdown",
   "metadata": {},
   "source": [
    "# Fitting Linear Model\n",
    "In the below code cell, fit a linear model and print the testset error. You can use sklearn's linear_model to find the fit."
   ]
  },
  {
   "cell_type": "code",
   "execution_count": 7,
   "metadata": {},
   "outputs": [
    {
     "name": "stdout",
     "output_type": "stream",
     "text": [
      "R-sq=0.3551767664294182\n"
     ]
    }
   ],
   "source": [
    "# Linear Model\n",
    "reg = linear_model.LinearRegression().fit(X_tr, Y_tr)\n",
    "print(\"R-sq=\", reg.score(X_test, Y_test), sep=\"\")"
   ]
  },
  {
   "cell_type": "markdown",
   "metadata": {},
   "source": [
    "# Ridge Regression\n",
    "In the below code cell, fit a ridge model using linear_model.ridge(warm_start=True, fit_intercept = True). The alphas variable contaings 100 values of regularization parameter. Fit 100 models with these 100 different values of alphas and find test errors for all these 100 models and plot test error v/s alpha.\n",
    "Note: In lecture, we used the letter lambda for regularization but in sklearn, they use alpha. So, in this programming assignment, we prefer to use alpha for the regularization parameter. "
   ]
  },
  {
   "cell_type": "code",
   "execution_count": 8,
   "metadata": {},
   "outputs": [],
   "source": [
    "# Ridge Model\n",
    "model = linear_model.Ridge(fit_intercept=True, normalize=True)\n",
    "# The code below \n",
    "nalpha = 100\n",
    "alphas = np.logspace(-3,1,nalpha)\n",
    "# Write code for finding costs for all the 100 models. YOu may use a for loop for this.\n",
    "\n",
    "rsq = []\n",
    "for a in alphas :\n",
    "    model.set_params(alpha=a)\n",
    "    rsq.append(model.fit(X_tr, Y_tr).score(X_test, Y_test))"
   ]
  },
  {
   "cell_type": "markdown",
   "metadata": {},
   "source": [
    "# Plotting Test Error v/s Alphas\n",
    "Write code to plot test errors v/s alphas in the code cell below."
   ]
  },
  {
   "cell_type": "code",
   "execution_count": 9,
   "metadata": {},
   "outputs": [
    {
     "data": {
      "image/png": "[encoded data removed]",
      "text/plain": [
       "<Figure size 432x288 with 1 Axes>"
      ]
     },
     "metadata": {},
     "output_type": "display_data"
    }
   ],
   "source": [
    "# Write the code below\n",
    "plt.plot(alphas, rsq, 'bo-')\n",
    "plt.title(\"Ridge Regression Alpha Test Errors\")\n",
    "plt.xlabel(\"alpha\")\n",
    "plt.ylabel(\"test error (R-sq)\")\n",
    "plt.show()"
   ]
  },
  {
   "cell_type": "markdown",
   "metadata": {},
   "source": [
    "# Lasso Regression\n",
    "In the below code cell, fit a lasso model using linear_model.Lasso(warm_start=True, fit_intercept = True). The alphas variable contaings 100 values of regularization parameter. Fit 100 models with these 100 different values of alphas and find test errors for all these 100 models and plot test error v/s alpha.\n",
    "Note: In lecture, we used the letter lambda for regularization but in sklearn, they use alpha. So, in this programming assignment, we prefer to use alpha for the regularization parameter. "
   ]
  },
  {
   "cell_type": "code",
   "execution_count": 11,
   "metadata": {},
   "outputs": [],
   "source": [
    "# Lasso Model\n",
    "model = linear_model.Lasso(warm_start=True, fit_intercept=True, normalize=True)\n",
    "# The code below \n",
    "nalpha = 100\n",
    "alphas = np.logspace(-3,1,nalpha)\n",
    "# Write code for finding costs for all the 100 models. YOu may use a for loop for this. \n",
    "\n",
    "rsq = []\n",
    "coeffs = []\n",
    "\n",
    "for a in alphas :\n",
    "    model.set_params(alpha=a)\n",
    "    model.fit(X_tr, Y_tr)\n",
    "    rsq.append(model.score(X_test, Y_test))\n",
    "    coeffs.append(model.coef_)"
   ]
  },
  {
   "cell_type": "markdown",
   "metadata": {},
   "source": [
    "# Plotting Test Error v/s Alphas\n",
    "Write code to plot test errors v/s alphas in the code cell below."
   ]
  },
  {
   "cell_type": "code",
   "execution_count": 12,
   "metadata": {},
   "outputs": [
    {
     "data": {
      "image/png": "[encoded data removed]",
      "text/plain": [
       "<Figure size 432x288 with 1 Axes>"
      ]
     },
     "metadata": {},
     "output_type": "display_data"
    },
    {
     "name": "stdout",
     "output_type": "stream",
     "text": [
      "Optimal Alpha (w/ Maximum Rsq Value):\n"
     ]
    }
   ],
   "source": [
    "# Write the code below\n",
    "plt.plot(alphas, rsq, 'ro-')\n",
    "plt.title(\"LASSO Regression Alpha Test Errors\")\n",
    "plt.xlabel(\"alpha\")\n",
    "plt.ylabel(\"test error (R-sq)\")\n",
    "plt.show()\n",
    "\n",
    "opt_alpha = alphas[np.argmax(rsq)]\n",
    "opt_coeff = coeffs[np.argmax(rsq)]\n",
    "\n",
    "print(\"Optimal Alpha (w/ Maximum Rsq Value):\")"
   ]
  },
  {
   "cell_type": "markdown",
   "metadata": {},
   "source": [
    "# Number of Non-Zero Coefficients:\n",
    "Find the number of Non-Zero Coefficients in the model you select."
   ]
  },
  {
   "cell_type": "code",
   "execution_count": 13,
   "metadata": {},
   "outputs": [
    {
     "name": "stdout",
     "output_type": "stream",
     "text": [
      "There are 10 nonzero elements.\n"
     ]
    }
   ],
   "source": [
    "# Write the code below\n",
    "zeros = np.count_nonzero(opt_coeff)\n",
    "print(\"There are\", zeros, \"nonzero elements.\")"
   ]
  },
  {
   "cell_type": "code",
   "execution_count": null,
   "metadata": {
    "collapsed": true
   },
   "outputs": [],
   "source": []
  }
 ],
 "metadata": {
  "kernelspec": {
   "display_name": "Python 3",
   "language": "python",
   "name": "python3"
  },
  "language_info": {
   "codemirror_mode": {
    "name": "ipython",
    "version": 3
   },
   "file_extension": ".py",
   "mimetype": "text/x-python",
   "name": "python",
   "nbconvert_exporter": "python",
   "pygments_lexer": "ipython3",
   "version": "3.6.5"
  }
 },
 "nbformat": 4,
 "nbformat_minor": 2
}
