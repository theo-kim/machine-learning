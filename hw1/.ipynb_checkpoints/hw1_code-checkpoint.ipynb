{
 "cells": [
  {
   "cell_type": "markdown",
   "metadata": {},
   "source": [
    "# Programming Assignment 1:  Simple Linear Regression\n",
    "\n",
    "In this assignment, you will load data, plot data, perform simple mathematical manipulations, and fit a simple linear regression model. The assignment uses the Boston housing data set, a widely-used machine learning data set for illustrating basic concepts.  \n",
    "\n",
    "\n",
    "Please add your own print statements to check your code to ensure your code is correct in every step. (Note: we will not be grading the print statements you add to your code.)"
   ]
  },
  {
   "cell_type": "markdown",
   "metadata": {
    "collapsed": true
   },
   "source": [
    "## Loading the data\n",
    "\n",
    "The Boston housing data set was collected in the 1970s to study the relationship between house price and various factors such as the house size, crime rate, socio-economic status, etc.  Since the variables are easy to understand, the data set is ideal for learning basic concepts in machine learning.  The raw data and a complete description of the dataset can be found on the UCI website:\n",
    "\n",
    "https://archive.ics.uci.edu/ml/datasets/Housing\n",
    "\n",
    "In the lab, you will complete all the code marked `TODO`. \n",
    "\n",
    "First, complete the following code that uses the `pd.read_csv` command to read the data from the file located at\n",
    "\n",
    "https://archive.ics.uci.edu/ml/machine-learning-databases/housing/housing.data\n",
    "\n",
    "I have supplied a list `names` of the column headers.  You will have to set the options in the `read_csv` command to correctly delimit the data in the file and name the columns correctly."
   ]
  },
  {
   "cell_type": "code",
   "execution_count": 1,
   "metadata": {},
   "outputs": [],
   "source": [
    "# run this code cell using shift+enter before moving further\n",
    "\n",
    "import numpy as np\n",
    "import pandas as pd\n",
    "import matplotlib\n",
    "from matplotlib import pyplot as plt\n",
    "%matplotlib inline"
   ]
  },
  {
   "cell_type": "code",
   "execution_count": 2,
   "metadata": {},
   "outputs": [],
   "source": [
    "names =[\n",
    "    'CRIM', 'ZN', 'INDUS', 'CHAS', 'NOX', 'RM', \n",
    "    'AGE',  'DIS', 'RAD', 'TAX', 'PTRATIO', 'B', 'LSTAT', 'PRICE'\n",
    "]\n",
    "\n",
    "# TODO:  Complete the code\n",
    "# I used local file because remote file on website does not resolve \n",
    "df = pd.read_csv('./boston_housing_data.txt', delim_whitespace=True, header=None, names=names)"
   ]
  },
  {
   "cell_type": "markdown",
   "metadata": {},
   "source": [
    "Display the first six rows of the data frame after adding the appropriate column headers"
   ]
  },
  {
   "cell_type": "code",
   "execution_count": 3,
   "metadata": {
    "scrolled": true
   },
   "outputs": [
    {
     "data": {
      "text/html": [
       "<div>\n",
       "<style scoped>\n",
       "    .dataframe tbody tr th:only-of-type {\n",
       "        vertical-align: middle;\n",
       "    }\n",
       "\n",
       "    .dataframe tbody tr th {\n",
       "        vertical-align: top;\n",
       "    }\n",
       "\n",
       "    .dataframe thead th {\n",
       "        text-align: right;\n",
       "    }\n",
       "</style>\n",
       "<table border=\"1\" class=\"dataframe\">\n",
       "  <thead>\n",
       "    <tr style=\"text-align: right;\">\n",
       "      <th></th>\n",
       "      <th>CRIM</th>\n",
       "      <th>ZN</th>\n",
       "      <th>INDUS</th>\n",
       "      <th>CHAS</th>\n",
       "      <th>NOX</th>\n",
       "      <th>RM</th>\n",
       "      <th>AGE</th>\n",
       "      <th>DIS</th>\n",
       "      <th>RAD</th>\n",
       "      <th>TAX</th>\n",
       "      <th>PTRATIO</th>\n",
       "      <th>B</th>\n",
       "      <th>LSTAT</th>\n",
       "      <th>PRICE</th>\n",
       "    </tr>\n",
       "  </thead>\n",
       "  <tbody>\n",
       "    <tr>\n",
       "      <th>0</th>\n",
       "      <td>0.00632</td>\n",
       "      <td>18.0</td>\n",
       "      <td>2.31</td>\n",
       "      <td>0</td>\n",
       "      <td>0.538</td>\n",
       "      <td>6.575</td>\n",
       "      <td>65.2</td>\n",
       "      <td>4.0900</td>\n",
       "      <td>1</td>\n",
       "      <td>296.0</td>\n",
       "      <td>15.3</td>\n",
       "      <td>396.90</td>\n",
       "      <td>4.98</td>\n",
       "      <td>24.0</td>\n",
       "    </tr>\n",
       "    <tr>\n",
       "      <th>1</th>\n",
       "      <td>0.02731</td>\n",
       "      <td>0.0</td>\n",
       "      <td>7.07</td>\n",
       "      <td>0</td>\n",
       "      <td>0.469</td>\n",
       "      <td>6.421</td>\n",
       "      <td>78.9</td>\n",
       "      <td>4.9671</td>\n",
       "      <td>2</td>\n",
       "      <td>242.0</td>\n",
       "      <td>17.8</td>\n",
       "      <td>396.90</td>\n",
       "      <td>9.14</td>\n",
       "      <td>21.6</td>\n",
       "    </tr>\n",
       "    <tr>\n",
       "      <th>2</th>\n",
       "      <td>0.02729</td>\n",
       "      <td>0.0</td>\n",
       "      <td>7.07</td>\n",
       "      <td>0</td>\n",
       "      <td>0.469</td>\n",
       "      <td>7.185</td>\n",
       "      <td>61.1</td>\n",
       "      <td>4.9671</td>\n",
       "      <td>2</td>\n",
       "      <td>242.0</td>\n",
       "      <td>17.8</td>\n",
       "      <td>392.83</td>\n",
       "      <td>4.03</td>\n",
       "      <td>34.7</td>\n",
       "    </tr>\n",
       "    <tr>\n",
       "      <th>3</th>\n",
       "      <td>0.03237</td>\n",
       "      <td>0.0</td>\n",
       "      <td>2.18</td>\n",
       "      <td>0</td>\n",
       "      <td>0.458</td>\n",
       "      <td>6.998</td>\n",
       "      <td>45.8</td>\n",
       "      <td>6.0622</td>\n",
       "      <td>3</td>\n",
       "      <td>222.0</td>\n",
       "      <td>18.7</td>\n",
       "      <td>394.63</td>\n",
       "      <td>2.94</td>\n",
       "      <td>33.4</td>\n",
       "    </tr>\n",
       "    <tr>\n",
       "      <th>4</th>\n",
       "      <td>0.06905</td>\n",
       "      <td>0.0</td>\n",
       "      <td>2.18</td>\n",
       "      <td>0</td>\n",
       "      <td>0.458</td>\n",
       "      <td>7.147</td>\n",
       "      <td>54.2</td>\n",
       "      <td>6.0622</td>\n",
       "      <td>3</td>\n",
       "      <td>222.0</td>\n",
       "      <td>18.7</td>\n",
       "      <td>396.90</td>\n",
       "      <td>5.33</td>\n",
       "      <td>36.2</td>\n",
       "    </tr>\n",
       "    <tr>\n",
       "      <th>5</th>\n",
       "      <td>0.02985</td>\n",
       "      <td>0.0</td>\n",
       "      <td>2.18</td>\n",
       "      <td>0</td>\n",
       "      <td>0.458</td>\n",
       "      <td>6.430</td>\n",
       "      <td>58.7</td>\n",
       "      <td>6.0622</td>\n",
       "      <td>3</td>\n",
       "      <td>222.0</td>\n",
       "      <td>18.7</td>\n",
       "      <td>394.12</td>\n",
       "      <td>5.21</td>\n",
       "      <td>28.7</td>\n",
       "    </tr>\n",
       "  </tbody>\n",
       "</table>\n",
       "</div>"
      ],
      "text/plain": [
       "      CRIM    ZN  INDUS  CHAS    NOX     RM   AGE     DIS  RAD    TAX  \\\n",
       "0  0.00632  18.0   2.31     0  0.538  6.575  65.2  4.0900    1  296.0   \n",
       "1  0.02731   0.0   7.07     0  0.469  6.421  78.9  4.9671    2  242.0   \n",
       "2  0.02729   0.0   7.07     0  0.469  7.185  61.1  4.9671    2  242.0   \n",
       "3  0.03237   0.0   2.18     0  0.458  6.998  45.8  6.0622    3  222.0   \n",
       "4  0.06905   0.0   2.18     0  0.458  7.147  54.2  6.0622    3  222.0   \n",
       "5  0.02985   0.0   2.18     0  0.458  6.430  58.7  6.0622    3  222.0   \n",
       "\n",
       "   PTRATIO       B  LSTAT  PRICE  \n",
       "0     15.3  396.90   4.98   24.0  \n",
       "1     17.8  396.90   9.14   21.6  \n",
       "2     17.8  392.83   4.03   34.7  \n",
       "3     18.7  394.63   2.94   33.4  \n",
       "4     18.7  396.90   5.33   36.2  \n",
       "5     18.7  394.12   5.21   28.7  "
      ]
     },
     "execution_count": 3,
     "metadata": {},
     "output_type": "execute_result"
    }
   ],
   "source": [
    "df.head(6)"
   ]
  },
  {
   "cell_type": "markdown",
   "metadata": {},
   "source": [
    "## Basic Manipulations on the Data\n",
    "\n",
    "What is the shape of the data?  How many attributes are there?  How many samples?\n",
    "Print a statement of the form:\n",
    "\n",
    "    num samples=xxx, num attributes=yy"
   ]
  },
  {
   "cell_type": "markdown",
   "metadata": {},
   "source": [
    "#### If done correctly: num_samples = 506, num_attributes = 14"
   ]
  },
  {
   "cell_type": "code",
   "execution_count": 4,
   "metadata": {},
   "outputs": [
    {
     "name": "stdout",
     "output_type": "stream",
     "text": [
      "num_samples=506, num_attributes=14\n"
     ]
    }
   ],
   "source": [
    "# TODO\n",
    "print(\"num_samples=\", df.shape[0], \", num_attributes=\", df.shape[1], sep='')"
   ]
  },
  {
   "cell_type": "markdown",
   "metadata": {},
   "source": [
    "Create a response vector `y` with the values in the column `PRICE`.  The vector `y` should be a 1D `numpy.array` structure."
   ]
  },
  {
   "cell_type": "code",
   "execution_count": 5,
   "metadata": {},
   "outputs": [],
   "source": [
    "# TODO\n",
    "y = df.values[:,13]"
   ]
  },
  {
   "cell_type": "markdown",
   "metadata": {},
   "source": [
    "Use the response vector `y` to find the mean house price in thousands and the fraction of homes that are above $40k. (You may realize this is very cheap.  Prices have gone up a lot since the 1970s!).   Create print statements of the form:\n",
    "\n",
    "    The mean house price is xx.yy thousands of dollars.\n",
    "    Only x.y percent are above $40k."
   ]
  },
  {
   "cell_type": "markdown",
   "metadata": {},
   "source": [
    "#### If done correctly: The mean house price is 22.53 thousands of dollars. Only 0.4 percent are above $40k."
   ]
  },
  {
   "cell_type": "code",
   "execution_count": 6,
   "metadata": {},
   "outputs": [
    {
     "name": "stdout",
     "output_type": "stream",
     "text": [
      "The mean house price is 22.53 thousands of dollars. Only 6.1 percent are above $40k.\n"
     ]
    }
   ],
   "source": [
    "# TODO\n",
    "mean = np.round(y.mean(), 2)\n",
    "portion = np.round((len(np.where(y > 40)[0]) / len(y)) * 100, 1)\n",
    "print(\"The mean house price is\", mean, \"thousands of dollars. Only\", portion, \"percent are above $40k.\")"
   ]
  },
  {
   "cell_type": "markdown",
   "metadata": {},
   "source": [
    "## Visualizing the Data\n",
    "\n",
    "Python's `matplotlib` has very good routines for plotting and visualizing data that closely follows the format of MATLAB programs.  You can load the `matplotlib` package with the following commands."
   ]
  },
  {
   "cell_type": "markdown",
   "metadata": {},
   "source": [
    "Similar to the `y` vector, create a predictor vector `x` containing the values in the `RM` column, which represents the average number of rooms in each region."
   ]
  },
  {
   "cell_type": "code",
   "execution_count": 7,
   "metadata": {},
   "outputs": [],
   "source": [
    "# TODO\n",
    "x = df.values[:,5]"
   ]
  },
  {
   "cell_type": "markdown",
   "metadata": {},
   "source": [
    "Create a scatter plot of the price vs. the `RM` attribute.  Make sure your plot has grid lines and label the axes with reasonable labels so that someone else can understand the plot."
   ]
  },
  {
   "cell_type": "code",
   "execution_count": 8,
   "metadata": {},
   "outputs": [
    {
     "data": {
      "image/png": "[encoded data removed]",
      "text/plain": [
       "<Figure size 432x288 with 1 Axes>"
      ]
     },
     "metadata": {},
     "output_type": "display_data"
    }
   ],
   "source": [
    "# TODO \n",
    "plt.scatter(x=x, y=y, marker='o')\n",
    "plt.xlabel('Number of Rooms')\n",
    "plt.ylabel('Price (tens of thousands of dollars)')\n",
    "plt.grid(True)\n",
    "plt.show()"
   ]
  },
  {
   "cell_type": "markdown",
   "metadata": {},
   "source": [
    "## Fitting a Simple Linear Model\n",
    "\n",
    "We will write a simple function to perform a linear fit. Use the formulae given in the class, to compute the parameters $w_0, w_1$ in the linear model $$y =w_0 + w_1 x + \\epsilon$$ as well as the coefficient of determination $R^2$."
   ]
  },
  {
   "cell_type": "code",
   "execution_count": 9,
   "metadata": {},
   "outputs": [],
   "source": [
    "def fit_linear(x,y):\n",
    "    \"\"\"\n",
    "    Given vectors of data points (x,y), performs a fit for the linear model:\n",
    "       yhat = w0 + w1*x, \n",
    "    The function returns w0, w1 and rsq, where rsq is the coefficient of determination.\n",
    "    \"\"\"\n",
    "    # TODO complete the following code\n",
    "    ybar = np.mean(y)\n",
    "    xbar = np.mean(x)\n",
    "    \n",
    "    w1 = (np.sum(x * y) - np.sum(x * ybar)) / (np.sum(x ** 2) - np.sum(x * xbar)) \n",
    "    w0 = ybar - (w1 * xbar)\n",
    "\n",
    "    \n",
    "    yhat = np.add(w0, w1 * x)\n",
    "    TSS = np.sum(np.subtract(y, ybar) ** 2)\n",
    "    RSS = np.sum(np.subtract(y, yhat) ** 2)\n",
    "    rsq = 1 - (RSS/TSS)\n",
    "    return w0, w1, rsq"
   ]
  },
  {
   "cell_type": "markdown",
   "metadata": {},
   "source": [
    "Using the function `fit_linear` above, print the values `w0`, `w1` and `rsq` for the linear model of price vs. number of rooms."
   ]
  },
  {
   "cell_type": "code",
   "execution_count": 10,
   "metadata": {},
   "outputs": [
    {
     "name": "stdout",
     "output_type": "stream",
     "text": [
      "-34.67062077643811 9.102108981180239\n"
     ]
    }
   ],
   "source": [
    "# TODO\n",
    "w0, w1, rsq = fit_linear(x, y)\n",
    "print(w0, w1)"
   ]
  },
  {
   "cell_type": "markdown",
   "metadata": {},
   "source": [
    "Replot the scatter plot above, but now with the regression line.  You can create the regression line by creating points `xp` from say 4 to 9, computing the linear predicted values `yp` on those points and plotting `yp` vs. `xp` on top of the above plot."
   ]
  },
  {
   "cell_type": "code",
   "execution_count": 11,
   "metadata": {},
   "outputs": [
    {
     "data": {
      "image/png": "[encoded data removed]",
      "text/plain": [
       "<Figure size 432x288 with 1 Axes>"
      ]
     },
     "metadata": {},
     "output_type": "display_data"
    }
   ],
   "source": [
    "# TODO \n",
    "plt.scatter(x=x, y=y, marker='o')\n",
    "plt.plot(x, np.add(w0, w1 * x), color='green')\n",
    "plt.xlabel('Number of Rooms')\n",
    "plt.ylabel('Price (tens of thousands of dollars)')\n",
    "plt.grid(True)\n",
    "plt.show()"
   ]
  },
  {
   "cell_type": "markdown",
   "metadata": {},
   "source": [
    "# Compute coefficients of determination\n",
    "\n",
    "We next compute the $R^2$ values for all the predictors and output the values in a table. Your table should look like the following, where each the first column is the attribute name and the second column is the $R^2$ value.\n",
    "\n",
    "    CRIM        0.151\n",
    "    ZN          0.130\n",
    "    INDUS       0.234\n",
    "    ...         ...\n",
    "\n",
    "To index over the set of colunms in the dataframe `df`, you can either loop over the items in the `names` lists (skipping over the final name `PRICE`) or loop over integer indices and use the method, `df.iloc`."
   ]
  },
  {
   "cell_type": "code",
   "execution_count": 12,
   "metadata": {},
   "outputs": [
    {
     "name": "stdout",
     "output_type": "stream",
     "text": [
      "CRIM\t\t0.151\n",
      "ZN\t\t0.13\n",
      "INDUS\t\t0.234\n",
      "CHAS\t\t0.031\n",
      "NOX\t\t0.183\n",
      "RM\t\t0.484\n",
      "AGE\t\t0.142\n",
      "DIS\t\t0.062\n",
      "RAD\t\t0.146\n",
      "TAX\t\t0.22\n",
      "PTRATIO\t\t0.258\n",
      "B\t\t0.111\n",
      "LSTAT\t\t0.544\n"
     ]
    }
   ],
   "source": [
    "# TODO\n",
    "for i in range(len(names)) :\n",
    "    if names[i] != \"PRICE\":\n",
    "        w0, w1, rsq = fit_linear(df.values[:,i], y)\n",
    "        print(names[i], np.round(rsq, 3), sep='\\t\\t')"
   ]
  },
  {
   "cell_type": "markdown",
   "metadata": {},
   "source": [
    "---------------------------------------------------------------------------------------------------------------------\n",
    "\n",
    "You have finished the first part of the asssignment, feel free to take a break and come back to do the second part"
   ]
  },
  {
   "cell_type": "markdown",
   "metadata": {},
   "source": [
    "## Implementing Linear Regression Using Gradient Descent \n",
    "\n",
    "In this lab, you will be implementing the Linear Regression Model. We will be using the gradient descent algorithm (GDA) and the stochastic gradient descent algorithm (SGDA) to minimize the cost function as we covered in the class.\n"
   ]
  },
  {
   "cell_type": "markdown",
   "metadata": {},
   "source": [
    "# Loading the data set."
   ]
  },
  {
   "cell_type": "code",
   "execution_count": 13,
   "metadata": {},
   "outputs": [],
   "source": [
    "# After completing the code in this code cell, run this code cell before moving further.\n",
    "names =[\n",
    "    'CRIM', 'ZN', 'INDUS', 'CHAS', 'NOX', 'RM', \n",
    "    'AGE',  'DIS', 'RAD', 'TAX', 'PTRATIO', 'B', 'LSTAT', 'PRICE'\n",
    "]\n",
    "\n",
    "# TODO\n",
    "df = pd.read_csv('./boston_housing_data.txt', delim_whitespace=True, header=None, names=names)\n"
   ]
  },
  {
   "cell_type": "markdown",
   "metadata": {},
   "source": [
    "Fetch the values from the 'PRICE' and 'RM' columns. into a smaller dataframe named df1 from df. This step is the same as was done in programming_assignment_1a.  Then drop rows with NaN values from df1, and save the result in df2."
   ]
  },
  {
   "cell_type": "code",
   "execution_count": 14,
   "metadata": {},
   "outputs": [],
   "source": [
    "# TODO\n",
    "df1 = pd.DataFrame(df[\"PRICE\"])\n",
    "df2 = pd.DataFrame(df[\"RM\"])\n",
    "\n",
    "# Check the shape of df2. It should be (506,2)\n"
   ]
  },
  {
   "cell_type": "markdown",
   "metadata": {},
   "source": [
    "Create a vector y having the values of 'PRICE' column and vector x having the values of 'RM' column. This step is also same as done in programming_assignment_1a."
   ]
  },
  {
   "cell_type": "code",
   "execution_count": 15,
   "metadata": {},
   "outputs": [
    {
     "name": "stdout",
     "output_type": "stream",
     "text": [
      "x shape: (506,)\n",
      "y shape: (506,)\n"
     ]
    }
   ],
   "source": [
    "# TODO\n",
    "y = np.array(df[\"PRICE\"])\n",
    "x = np.array(df[\"RM\"])\n",
    "# Check the shape of x and y vectors.\n",
    "print(\"x shape:\", x.shape)\n",
    "print(\"y shape:\", y.shape)\n"
   ]
  },
  {
   "cell_type": "markdown",
   "metadata": {},
   "source": [
    "Reshape x and y to be rank 2 (here we refer to the number of dimentions of a array as it's rank). After checking the shape of x and y in the above code cell, we see that x and y are rank 1 matricies. Before proceeding,  convert them to be rank 2 matricies. For example, you could use the command x=x.reshape(x.shape[0],1) to reshape x."
   ]
  },
  {
   "cell_type": "code",
   "execution_count": 16,
   "metadata": {},
   "outputs": [],
   "source": [
    "# TODO\n",
    "x = x.reshape(x.shape[0],1)\n",
    "y = y.reshape(y.shape[0],1)"
   ]
  },
  {
   "cell_type": "markdown",
   "metadata": {},
   "source": [
    "# Gradient Descent\n",
    "Write the code to perform gradient descent in the function below.  In this assigment, we will run the algorithm a fixed number of iterations.  Later in the course, we will add a simple extension by adding a stopping criteria."
   ]
  },
  {
   "cell_type": "markdown",
   "metadata": {},
   "source": [
    "Calculating the value of N, i.e. number of training examples. \n",
    "Hint: Value of N is equal to the number of rows in either x or y matrix which can be accessed using the numpy shape command."
   ]
  },
  {
   "cell_type": "code",
   "execution_count": 17,
   "metadata": {},
   "outputs": [],
   "source": [
    "# TODO\n",
    "N = x.shape[0]"
   ]
  },
  {
   "cell_type": "markdown",
   "metadata": {},
   "source": [
    "Compute the cost: Write the code to compute the cost inside the function. Do not change the function name or function parameters."
   ]
  },
  {
   "cell_type": "code",
   "execution_count": 18,
   "metadata": {},
   "outputs": [],
   "source": [
    "def compute_cost(x, y, w0, w1, N):\n",
    "    #Write your code in place of None. Cost can be calculated using a single line of code\n",
    "    yhat = np.add(w0, w1 * x)\n",
    "    RSS = np.sum(np.subtract(yhat, y) ** 2)\n",
    "    cost = (1/(2*N)) * RSS\n",
    "    \n",
    "    return cost"
   ]
  },
  {
   "cell_type": "markdown",
   "metadata": {},
   "source": [
    "Before moving ahead, ensure that the code you have written to compute the cost is correct. Just run the below cell."
   ]
  },
  {
   "cell_type": "code",
   "execution_count": 19,
   "metadata": {},
   "outputs": [
    {
     "name": "stdout",
     "output_type": "stream",
     "text": [
      "296.0734584980237\n"
     ]
    }
   ],
   "source": [
    "cost_verify= compute_cost(x, y, 0, 0, N)\n",
    "print(cost_verify)"
   ]
  },
  {
   "cell_type": "markdown",
   "metadata": {},
   "source": [
    "Your output should be equal to 296.073458498.  Ensure your answer is correct before continuing"
   ]
  },
  {
   "cell_type": "code",
   "execution_count": 20,
   "metadata": {},
   "outputs": [],
   "source": [
    "def gradient_descent(x, y, learning_rate, w0, w1, N, num_iters):\n",
    "    # In place of None, write the updated value of w0 in temp0 and of w1 in temp1\n",
    "    for i in range(num_iters):\n",
    "        temp0 =   w0 - ((learning_rate/N) * np.sum(np.subtract(np.add(w0, w1 * x), y)))\n",
    "        temp1 =   w1 - ((learning_rate/N) * np.sum(np.subtract(np.add(w0, w1 * x), y) * x))\n",
    "        w0 =temp0\n",
    "        w1= temp1\n",
    "        \n",
    "        if(i%100==0):\n",
    "            # In place of None, call the cost you just coded above\n",
    "            cost= compute_cost(x, y, w0, w1, N)\n",
    "#             print(\"Cost\")\n",
    "#             print(cost)\n",
    "#             print(\"w's\")\n",
    "#             print(w0)\n",
    "#             print(w1) \n",
    "            \n",
    "    return w0,w1       "
   ]
  },
  {
   "cell_type": "markdown",
   "metadata": {},
   "source": [
    "Before moving ahead, ensure that your code to update beta0 and beta1 is correct. Run the code cell below."
   ]
  },
  {
   "cell_type": "code",
   "execution_count": 47,
   "metadata": {},
   "outputs": [
    {
     "name": "stdout",
     "output_type": "stream",
     "text": [
      "w0: -34.3837376153493 w1: 9.057009493849197\n"
     ]
    }
   ],
   "source": [
    "g=gradient_descent(x, y, 0.04, 0, 0, N, 10000)\n",
    "print(\"w0:\", g[0], \"w1:\", g[1])"
   ]
  },
  {
   "cell_type": "markdown",
   "metadata": {},
   "source": [
    "The last output should be: -34.3837376153. Ensure that you have the correct result before continuing."
   ]
  },
  {
   "cell_type": "markdown",
   "metadata": {},
   "source": [
    "# Integerating the Batch Gradient Descent Function \n",
    "\n",
    "Using the above code, create a single function linear_reg_model_gda: This function uses the gradient descent algorithm to minimize the cost."
   ]
  },
  {
   "cell_type": "code",
   "execution_count": 22,
   "metadata": {},
   "outputs": [],
   "source": [
    "def linear_reg_model_gda(x, y, N, learning_rate, num_iters):\n",
    "    #initialize the values of parameters w0 and w1 both to 0\n",
    "    w0=0\n",
    "    w1=0\n",
    "    \n",
    "    #calculate the initial cost by calling the function you just coded above\n",
    "    initial_cost=compute_cost(x, y, w0, w1, N)\n",
    "    print(\"Initial Cost\")\n",
    "    print(initial_cost)\n",
    "    \n",
    "    #calculate the optimized value of w0 and w1 by calling the gradient_descent function coded above\n",
    "    \n",
    "    w0,w1= gradient_descent(x, y, learning_rate, w0, w1, N, num_iters)\n",
    "    \n",
    "    #Calculate the cost with the optimized value of w0 and w1 by calling the cost function.\n",
    "    \n",
    "    final_cost=compute_cost(x, y, w0, w1, N)\n",
    "    print(\"Final Cost\")\n",
    "    print(final_cost)\n",
    "    return w0,w1\n",
    "    "
   ]
  },
  {
   "cell_type": "markdown",
   "metadata": {},
   "source": [
    "Now, when you have completed the linear_reg_model_gda function, you can use this function to find the optimized values of w0 and w1. Using it, set the values of learning_rate and num_iters to something reasonable. You may have to call this function several times with different values of num_iters and learning_rate to find the optimal values of w0 and w1. For some values of learning_rate, you may recieve incorrect values of w0 and w1, wherein they reach a very large value(infinity) due to overshooting as was discussed in class. Finally, the values of w0, w1 and cost(RSS) should be same(or very close to) the ones in Part 1 of this assignment."
   ]
  },
  {
   "cell_type": "code",
   "execution_count": 23,
   "metadata": {},
   "outputs": [
    {
     "name": "stdout",
     "output_type": "stream",
     "text": [
      "Initial Cost\n",
      "296.0734584980237\n",
      "Final Cost\n",
      "22.490568055734407\n"
     ]
    }
   ],
   "source": [
    "# Write your code below\n",
    "learning_rate=0.01\n",
    "num_iters=10000\n",
    "# In place of None, call the linear_reg_model_gda.\n",
    "w0,w1=linear_reg_model_gda(x, y, N, learning_rate, num_iters)"
   ]
  },
  {
   "cell_type": "markdown",
   "metadata": {},
   "source": [
    "# Predicting the Price of a House"
   ]
  },
  {
   "cell_type": "markdown",
   "metadata": {},
   "source": [
    "Use your function to train your linear regression model to find the optimal values for $w_0$ and $w_1$.  Once you have the optimal values for the parameters, you can predict the value of $y$ (price) using $x$ (rm).  Compute the function below to prdict $y$, using $x$, $w_0$ and $w_1$"
   ]
  },
  {
   "cell_type": "code",
   "execution_count": 24,
   "metadata": {},
   "outputs": [],
   "source": [
    "def predict(x, w0, w1):\n",
    "    predicted_y = np.add(w0, w1 * x)\n",
    "    \n",
    "    return predicted_y"
   ]
  },
  {
   "cell_type": "markdown",
   "metadata": {},
   "source": [
    "Now, predict the price of a house with rm=6 using ```predict()```. "
   ]
  },
  {
   "cell_type": "code",
   "execution_count": 35,
   "metadata": {},
   "outputs": [
    {
     "name": "stdout",
     "output_type": "stream",
     "text": [
      "Initial Cost\n",
      "296.0734584980237\n",
      "Final Cost\n",
      "21.800275885859726\n",
      "Predicted Cost: 19.94204510386688\n"
     ]
    }
   ],
   "source": [
    "# Call the predict function with rm=6\n",
    "w0, w1 = linear_reg_model_gda(x, y, N, 0.01, 100000)\n",
    "y_predict = predict(6, w0, w1)\n",
    "print(\"Predicted Cost:\", y_predict)"
   ]
  },
  {
   "cell_type": "markdown",
   "metadata": {},
   "source": [
    "The value should be approximately 19.54424 "
   ]
  },
  {
   "cell_type": "markdown",
   "metadata": {},
   "source": [
    "# Normal Equation Method\n",
    "Now, we will be writing the code to find the values of parameters w0 and w1 for our linear regression model. This can also be used to cross-check the optimal values of w0 and w1 we just found above using the above two models. These values should be approximately the same."
   ]
  },
  {
   "cell_type": "markdown",
   "metadata": {},
   "source": [
    "Step 1: Appending a column of ones to x in the left. Save this into X. You can first create a column vector of ones say 'a' (ensure this to have dimension (N,1) i.e. a rank 2 array). Now, you can use np.hstack to append it to the left of x."
   ]
  },
  {
   "cell_type": "code",
   "execution_count": 41,
   "metadata": {},
   "outputs": [
    {
     "data": {
      "text/plain": [
       "array([[1.   , 6.575],\n",
       "       [1.   , 6.421],\n",
       "       [1.   , 7.185],\n",
       "       ...,\n",
       "       [1.   , 6.976],\n",
       "       [1.   , 6.794],\n",
       "       [1.   , 6.03 ]])"
      ]
     },
     "execution_count": 41,
     "metadata": {},
     "output_type": "execute_result"
    }
   ],
   "source": [
    "#Write the code below\n",
    "a = np.ones(x.shape[0])\n",
    "X = np.insert(x, 0, a, 1)\n",
    "X"
   ]
  },
  {
   "cell_type": "markdown",
   "metadata": {},
   "source": [
    "Step 2: Instead of writing the code for normal equation in one line, you can break this into 3 parts: First calculate q=inverse of (dot of (X.T,X)) (these are pseudo commands, use original numpy commands to calculate q). Then w= dot of ( X.T , y) and then beta_vec= dot of (q,w). Here, beta_vec is vector of dimension (2,1) having two values. Example w0=w_vec[0][0]"
   ]
  },
  {
   "cell_type": "code",
   "execution_count": 52,
   "metadata": {},
   "outputs": [],
   "source": [
    "# Write the code below\n",
    "q = np.asarray(np.linalg.inv(np.matrix(np.dot(X.T, X))))\n",
    "w = np.dot(X.T, y)\n",
    "w_vec = np.dot(q, w)\n",
    "w0 = w_vec[0][0]\n",
    "w1 = w_vec[1][0]"
   ]
  },
  {
   "cell_type": "code",
   "execution_count": 53,
   "metadata": {},
   "outputs": [
    {
     "name": "stdout",
     "output_type": "stream",
     "text": [
      "w0 is -34.67062077643868\n",
      "w1 is 9.102108981180265\n"
     ]
    }
   ],
   "source": [
    "print(\"w0 is \" + str(w0))\n",
    "print(\"w1 is \" + str(w1))"
   ]
  },
  {
   "cell_type": "markdown",
   "metadata": {
    "collapsed": true
   },
   "source": [
    "The Values of w0 and w1 you just got above should be approximately the same as the ones you got using linear_reg_model_gda or linear_reg_model_sgda."
   ]
  },
  {
   "cell_type": "markdown",
   "metadata": {},
   "source": [
    "\n",
    "# Optional (The following will not be graded):  \n",
    "# Stochastic Gradient Descent\n",
    "\n",
    "You can read more about stochastic gradient descent: https://en.wikipedia.org/wiki/Stochastic_gradient_descent\n",
    "\n",
    "To prevent cycles, shuffle the data for each pass.\n",
    "\n",
    "Write the code to perform a stochastic gradient descent. Remember, every update in a sgda uses examples one by one."
   ]
  },
  {
   "cell_type": "code",
   "execution_count": 29,
   "metadata": {},
   "outputs": [],
   "source": [
    "def stochastic_gradient_descent(x, y, learning_rate, w0, w1, N, num_iters):\n",
    "\n",
    "    for j in range(num_iters):\n",
    "    \n",
    "        for i in range(0,N):\n",
    "        # Write updated value in beta0 in temp0 and of beta1 in temp1\n",
    "            temp0 = None \n",
    "            temp1 = None\n",
    "            w0 = temp0\n",
    "            w1 = temp1   \n",
    "\n",
    "        if(j%2000==0):\n",
    "            cost= None\n",
    "            print(\"Cost\")\n",
    "            print(cost)\n",
    "            print(\"Betas\")\n",
    "            print(w0)\n",
    "            print(w1)           \n",
    "            \n",
    "    return w0,w1"
   ]
  },
  {
   "cell_type": "markdown",
   "metadata": {},
   "source": [
    "Before moving ahead, ensure that your code to update beta0 and beta1 is correct. Run the code cell below. This may take some time to run completely."
   ]
  },
  {
   "cell_type": "code",
   "execution_count": 30,
   "metadata": {},
   "outputs": [
    {
     "name": "stdout",
     "output_type": "stream",
     "text": [
      "Cost\n",
      "None\n",
      "Betas\n",
      "None\n",
      "None\n",
      "Cost\n",
      "None\n",
      "Betas\n",
      "None\n",
      "None\n",
      "Cost\n",
      "None\n",
      "Betas\n",
      "None\n",
      "None\n",
      "Cost\n",
      "None\n",
      "Betas\n",
      "None\n",
      "None\n",
      "Cost\n",
      "None\n",
      "Betas\n",
      "None\n",
      "None\n",
      "None\n"
     ]
    }
   ],
   "source": [
    "g=stochastic_gradient_descent(x, y, 0.0048, 0, 0, N, 10000)\n",
    "print(g[0])"
   ]
  },
  {
   "cell_type": "markdown",
   "metadata": {},
   "source": [
    "The result should be: -17.98968896 . Ensure that your answer is correct before continuing."
   ]
  },
  {
   "cell_type": "markdown",
   "metadata": {},
   "source": [
    "# Integrating the Stochastic Gradient Descent Algorithm\n",
    "\n",
    "Use this function to complete linear_reg_model_sgda(). This function uses stochastic gradient descent to minimize the cost."
   ]
  },
  {
   "cell_type": "code",
   "execution_count": 31,
   "metadata": {},
   "outputs": [],
   "source": [
    "def linear_reg_model_sgda(x, y, N, learning_rate, num_iters):\n",
    "    \n",
    "     #initialize the values of parameters w0 and w1 both to 0\n",
    "    w0=None\n",
    "    w1=None\n",
    "    \n",
    "    #calculate the initial cost by calling the function cost you just coded above\n",
    "    print(\"Initial Cost\")\n",
    "    initial_cost=None\n",
    "    print(initial_cost)\n",
    "    \n",
    "    #calculate the optimized value of w0 and w1 by calling the stochastic_gradient_descent function coded above\n",
    "    \n",
    "    w0, w1= None\n",
    "    \n",
    "    #Calculate the cost with the optimized value of w0 and w1 by calling the cost function.\n",
    "    \n",
    "    final_cost=None\n",
    "    print(\"Final_cost\")\n",
    "    print(final_cost)\n",
    "    return w0, w1"
   ]
  },
  {
   "cell_type": "markdown",
   "metadata": {},
   "source": [
    "Now, when you have completed linear_reg_model_sgda function, you can call this function to find the optimized values of w0 and w1. Before calling the function, set the values of learning_rate and num_iters appropriately. You may have to call this function several times with different values of num_iters and learning_rate to find the optimal values of w0 and w1. For a sufficiently high learning_rate, it may return extremely high values for w0 and w1 (infinity). Finally, the values of w0, w1 and cost(RSS) should be same(or nearly the same) as you got in the programming_assignment1a."
   ]
  },
  {
   "cell_type": "code",
   "execution_count": 32,
   "metadata": {},
   "outputs": [
    {
     "ename": "TypeError",
     "evalue": "'NoneType' object is not iterable",
     "output_type": "error",
     "traceback": [
      "\u001b[0;31m---------------------------------------------------------------------------\u001b[0m",
      "\u001b[0;31mTypeError\u001b[0m                                 Traceback (most recent call last)",
      "\u001b[0;32m<ipython-input-32-255c2169c49c>\u001b[0m in \u001b[0;36m<module>\u001b[0;34m()\u001b[0m\n\u001b[1;32m      3\u001b[0m \u001b[0mnum_iters\u001b[0m \u001b[0;34m=\u001b[0m \u001b[0;32mNone\u001b[0m\u001b[0;34m\u001b[0m\u001b[0m\n\u001b[1;32m      4\u001b[0m \u001b[0;31m# In place of None call the function linear_reg_model_sgda.\u001b[0m\u001b[0;34m\u001b[0m\u001b[0;34m\u001b[0m\u001b[0m\n\u001b[0;32m----> 5\u001b[0;31m \u001b[0mw0\u001b[0m\u001b[0;34m,\u001b[0m \u001b[0mw1\u001b[0m \u001b[0;34m=\u001b[0m \u001b[0;32mNone\u001b[0m\u001b[0;34m\u001b[0m\u001b[0m\n\u001b[0m",
      "\u001b[0;31mTypeError\u001b[0m: 'NoneType' object is not iterable"
     ]
    }
   ],
   "source": [
    "# Write your code below\n",
    "learning_rate = None\n",
    "num_iters = None\n",
    "# In place of None call the function linear_reg_model_sgda.\n",
    "w0, w1 = None"
   ]
  },
  {
   "cell_type": "code",
   "execution_count": null,
   "metadata": {},
   "outputs": [],
   "source": []
  }
 ],
 "metadata": {
  "anaconda-cloud": {},
  "kernelspec": {
   "display_name": "Python 3",
   "language": "python",
   "name": "python3"
  },
  "language_info": {
   "codemirror_mode": {
    "name": "ipython",
    "version": 3
   },
   "file_extension": ".py",
   "mimetype": "text/x-python",
   "name": "python",
   "nbconvert_exporter": "python",
   "pygments_lexer": "ipython3",
   "version": "3.6.5"
  }
 },
 "nbformat": 4,
 "nbformat_minor": 1
}
