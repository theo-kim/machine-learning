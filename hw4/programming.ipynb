{
 "cells": [
  {
   "cell_type": "markdown",
   "metadata": {},
   "source": [
    "# Programming Assignment Logistic Regression\n",
    "Breast Cancer Prediction"
   ]
  },
  {
   "cell_type": "code",
   "execution_count": 1,
   "metadata": {},
   "outputs": [],
   "source": [
    "#Import Important Libraries\n",
    "from sklearn.datasets import load_breast_cancer # taking included data set from Sklearn http://scikit-learn.org/stable/modules/generated/sklearn.datasets.load_breast_cancer.html\n",
    "from sklearn.linear_model import LogisticRegression # importing Sklearn's logistic regression's module\n",
    "from sklearn import preprocessing # preprossing is what we do with the data before we run the learning algorithm\n",
    "from sklearn.model_selection import train_test_split \n",
    "import numpy as np\n",
    "\n",
    "import matplotlib.pyplot as plt\n",
    "%matplotlib inline"
   ]
  },
  {
   "cell_type": "code",
   "execution_count": 2,
   "metadata": {},
   "outputs": [],
   "source": [
    "# Loading Dataset\n",
    "cancer = load_breast_cancer()"
   ]
  },
  {
   "cell_type": "markdown",
   "metadata": {},
   "source": [
    "# Data Pre-Processing\n",
    "Scale before splitting the data into train and test- scale the data since we will be using gradient ascent"
   ]
  },
  {
   "cell_type": "code",
   "execution_count": 3,
   "metadata": {},
   "outputs": [],
   "source": [
    "x_scale = preprocessing.scale(cancer.data)\n",
    "y = cancer.target\n",
    "x_train, x_test, y_train, y_test = train_test_split(x_scale, y, test_size=0.25)"
   ]
  },
  {
   "cell_type": "code",
   "execution_count": 4,
   "metadata": {},
   "outputs": [
    {
     "name": "stdout",
     "output_type": "stream",
     "text": [
      "['mean radius' 'mean texture' 'mean perimeter' 'mean area'\n",
      " 'mean smoothness' 'mean compactness' 'mean concavity'\n",
      " 'mean concave points' 'mean symmetry' 'mean fractal dimension'\n",
      " 'radius error' 'texture error' 'perimeter error' 'area error'\n",
      " 'smoothness error' 'compactness error' 'concavity error'\n",
      " 'concave points error' 'symmetry error' 'fractal dimension error'\n",
      " 'worst radius' 'worst texture' 'worst perimeter' 'worst area'\n",
      " 'worst smoothness' 'worst compactness' 'worst concavity'\n",
      " 'worst concave points' 'worst symmetry' 'worst fractal dimension']\n"
     ]
    }
   ],
   "source": [
    "# Printing Names of the Features used for prediction.\n",
    "print(cancer.feature_names)"
   ]
  },
  {
   "cell_type": "markdown",
   "metadata": {},
   "source": [
    "# Implementing Logistic Regression Using Gradient Ascent"
   ]
  },
  {
   "cell_type": "code",
   "execution_count": 5,
   "metadata": {},
   "outputs": [],
   "source": [
    "# Write code that computes sigmoid of z. Remember sigmoid can be scalar or a matrix.\n",
    "def sigmoid(z):\n",
    "    return np.exp(z) / (np.exp(z) + 1)"
   ]
  },
  {
   "cell_type": "code",
   "execution_count": 6,
   "metadata": {},
   "outputs": [
    {
     "name": "stdout",
     "output_type": "stream",
     "text": [
      "0.5\n"
     ]
    }
   ],
   "source": [
    "# Sigmoid of 0 should be equal to half.\n",
    "print(sigmoid(0))"
   ]
  },
  {
   "cell_type": "code",
   "execution_count": 7,
   "metadata": {},
   "outputs": [
    {
     "name": "stdout",
     "output_type": "stream",
     "text": [
      "(426, 31)\n"
     ]
    }
   ],
   "source": [
    "# Appending a Column of Ones in x_train.\n",
    "# ones is a vector of shape n,1\n",
    "ones = np.ones((x_train.shape[0],1))\n",
    "# Append a column of ones in the beginning of x_train an save in variable a.\n",
    "a=np.hstack((ones, x_train))\n",
    "print(a.shape)"
   ]
  },
  {
   "cell_type": "code",
   "execution_count": 8,
   "metadata": {},
   "outputs": [],
   "source": [
    "# Initialize Parameter Vector w: A vector of shape x_train.shape[1],1\n",
    "w = np.zeros((a.shape[1], 1))"
   ]
  },
  {
   "cell_type": "code",
   "execution_count": 9,
   "metadata": {},
   "outputs": [],
   "source": [
    "# Hypothesis Function. Write code that computes hypothesis using a and w.\n",
    "def hypothesis(a , w):\n",
    "    return sigmoid(-1 * w.T.dot(a.T))"
   ]
  },
  {
   "cell_type": "code",
   "execution_count": 10,
   "metadata": {},
   "outputs": [],
   "source": [
    "# Computing Predicted Values.\n",
    "yhat = hypothesis(a, w)"
   ]
  },
  {
   "cell_type": "markdown",
   "metadata": {},
   "source": [
    "# Likelihood Function.\n",
    "Write the code to calculate the log likelihood as discussed in the class."
   ]
  },
  {
   "cell_type": "code",
   "execution_count": 11,
   "metadata": {},
   "outputs": [],
   "source": [
    "def likelihood(X_tr , Y_tr , w , n):\n",
    "    \n",
    "    yhat = hypothesis(X_tr, w)\n",
    "    likelihood = np.sum(Y_tr * np.log(yhat) + (1 - Y_tr) * np.log(1 - yhat))\n",
    "    \n",
    "    return likelihood"
   ]
  },
  {
   "cell_type": "code",
   "execution_count": 12,
   "metadata": {},
   "outputs": [
    {
     "name": "stdout",
     "output_type": "stream",
     "text": [
      "-295.2806989185367\n"
     ]
    }
   ],
   "source": [
    "# Before moving ahead, run this cell\n",
    "print(likelihood(a,y_train,w,a.shape[0]))"
   ]
  },
  {
   "cell_type": "markdown",
   "metadata": {},
   "source": [
    "The value should be equal to -295.2806989185367. If this matches, your code is likely to be correct."
   ]
  },
  {
   "cell_type": "markdown",
   "metadata": {},
   "source": [
    "# Gradient Ascent"
   ]
  },
  {
   "cell_type": "code",
   "execution_count": 13,
   "metadata": {},
   "outputs": [],
   "source": [
    "# Write the function that performs Gradient Ascent.\n",
    "def Gradient_Ascent(a, y, learning_rate, num_iters):\n",
    "    n = a.shape[0] # Number of training examples.\n",
    "    # Initialize w. Zeros vector of shape x_train.shape[1],1\n",
    "    w = np.zeros((a.shape[1], 1))\n",
    "    # Reshape y to be a rank 2 matrix.\n",
    "    y = y.reshape((y.shape[0],1))\n",
    "    # Initiating list to store values of likelihood after few iterations.\n",
    "    likelihood_values = []\n",
    "    for i in range(num_iters):\n",
    "        yhat = hypothesis(a, w)\n",
    "        error = None\n",
    "        gradient = a.T.dot(np.subtract(y, yhat))\n",
    "        # Updating Parameters\n",
    "        w = w + (learning_rate / n) * gradient\n",
    "        if(i % 100 == 0):\n",
    "            likelihood_values.append(likelihood(a,y,w,n))\n",
    "        \n",
    "    return w, likelihood_values"
   ]
  },
  {
   "cell_type": "code",
   "execution_count": 14,
   "metadata": {},
   "outputs": [
    {
     "name": "stdout",
     "output_type": "stream",
     "text": [
      "[-125793.93786571072, -133210.9724380672, -152285.52421187112, -179652.7029404438, -212787.55200753344, -249903.13518750743, -289749.39077327633, -331469.30804002506, -374483.98951430945, -418404.5583779604]\n"
     ]
    }
   ],
   "source": [
    "# Call Gradient_Ascent method by passing appropriate values of learning rate and num_iterations.\n",
    "learning_rate = 0.001\n",
    "num_iters = 1000\n",
    "w, likelihood_values = Gradient_Ascent(a, y_train, learning_rate, num_iters)\n",
    "print((likelihood_values))"
   ]
  },
  {
   "cell_type": "markdown",
   "metadata": {},
   "source": [
    "# Plotting Likelihood v/s Number of Iterations."
   ]
  },
  {
   "cell_type": "code",
   "execution_count": 15,
   "metadata": {},
   "outputs": [
    {
     "data": {
      "image/png": "[encoded data removed]",
      "text/plain": [
       "<Figure size 432x288 with 1 Axes>"
      ]
     },
     "metadata": {},
     "output_type": "display_data"
    }
   ],
   "source": [
    "# Run this cell to plot Likelihood v/s Number of Iterations.\n",
    "iters = np.array(range(0,num_iters,100))\n",
    "plt.plot(iters,likelihood_values,'.-',color='green')\n",
    "plt.xlabel('Number of iterations')\n",
    "plt.ylabel('Likelihood')\n",
    "plt.title(\"Likelihood vs Number of Iterations.\")\n",
    "plt.grid()"
   ]
  },
  {
   "cell_type": "markdown",
   "metadata": {},
   "source": [
    "You should see the likelihood increasing as number of Iterations increase."
   ]
  },
  {
   "cell_type": "code",
   "execution_count": 16,
   "metadata": {},
   "outputs": [],
   "source": [
    "# Write the function to compute predicted values using a and w.\n",
    "def predict(a, w):\n",
    "    yhat = hypothesis(np.hstack((np.ones((a.shape[0],1)), a)), w)\n",
    "    \n",
    "    return yhat"
   ]
  },
  {
   "cell_type": "code",
   "execution_count": 17,
   "metadata": {},
   "outputs": [],
   "source": [
    "yhat = predict(x_test, w)"
   ]
  },
  {
   "cell_type": "code",
   "execution_count": 18,
   "metadata": {},
   "outputs": [],
   "source": [
    "# Read the comments in the function carefully.\n",
    "def precision_recall(yhat, y , threshold):\n",
    "    # Write code to compute precision and recall\n",
    "    # Before finding precision or recall, you have to convert yhat into a vector of zeros and ones using threshold.\n",
    "    # Values in yhat > threshold should be equal to 1 and others should be 0.\n",
    "    yhat[yhat > threshold] = 1\n",
    "    yhat[yhat <= threshold] = 0\n",
    "    \n",
    "    tp = np.sum(np.logical_and(yhat == 1, y == 1))\n",
    "    fp = np.sum(np.logical_and(yhat == 1, y == 0))\n",
    "    fn = np.sum(np.logical_and(yhat == 0, y == 1))\n",
    "    \n",
    "    precision = tp / (tp + fp)\n",
    "    recall = tp / (tp + fn)\n",
    "    \n",
    "    return precision,recall"
   ]
  },
  {
   "cell_type": "code",
   "execution_count": 19,
   "metadata": {},
   "outputs": [],
   "source": [
    "precision, recall = precision_recall(yhat, y_test, 0.1)"
   ]
  },
  {
   "cell_type": "code",
   "execution_count": 20,
   "metadata": {},
   "outputs": [
    {
     "data": {
      "text/plain": [
       "0.3393623836329685"
      ]
     },
     "execution_count": 20,
     "metadata": {},
     "output_type": "execute_result"
    }
   ],
   "source": [
    "def f_score(precision, recall):\n",
    "    return 2*(recall * precision) / (recall + precision)\n",
    "\n",
    "f_score(precision, recall)"
   ]
  },
  {
   "cell_type": "markdown",
   "metadata": {},
   "source": [
    "# Fitting Model using Sk Learn Library. "
   ]
  },
  {
   "cell_type": "code",
   "execution_count": 21,
   "metadata": {},
   "outputs": [],
   "source": [
    "# Create object of logistic regression model. Pass a large value of C as C = 1/lambda.\n",
    "# So, lambda will become nearly 0.\n",
    "logreg = LogisticRegression(C=10000)"
   ]
  },
  {
   "cell_type": "code",
   "execution_count": 22,
   "metadata": {},
   "outputs": [],
   "source": [
    "# Fitting the training set. # Write code to fit the model on the training set.\n",
    "# Don't use matrix a. Instead, use x_train.\n",
    "logreg = logreg.fit(x_train, y_train)"
   ]
  },
  {
   "cell_type": "code",
   "execution_count": 23,
   "metadata": {},
   "outputs": [
    {
     "name": "stdout",
     "output_type": "stream",
     "text": [
      "Accuracy on training data = 0.944056\n"
     ]
    }
   ],
   "source": [
    "# Find the predicted values on training set using logreg.predict\n",
    "# Here, it will return a vector of zeros and ones.\n",
    "yhat = logreg.predict(x_test)\n",
    "# Find the accuracy achieved on training set.\n",
    "acc = logreg.score(x_test, y_test)\n",
    "print(\"Accuracy on training data = %f\" % acc)"
   ]
  },
  {
   "cell_type": "code",
   "execution_count": 24,
   "metadata": {},
   "outputs": [],
   "source": [
    "# Printing the parameters.\n",
    "# Retrieving the parameters computed by logreg.\n",
    "w = logreg.coef_\n",
    "intercept = logreg.intercept_\n",
    "# You can compare the parameters computed by logreg model and gradient ascent. They should be nearly same."
   ]
  },
  {
   "cell_type": "markdown",
   "metadata": {},
   "source": [
    "# Performance Metrics:\n"
   ]
  },
  {
   "cell_type": "code",
   "execution_count": 25,
   "metadata": {},
   "outputs": [
    {
     "name": "stdout",
     "output_type": "stream",
     "text": [
      "[0.89285714 0.97701149] [0.96153846 0.93406593] [0.92592593 0.95505618]\n"
     ]
    }
   ],
   "source": [
    "from sklearn.metrics import precision_recall_fscore_support\n",
    "# Find Precision, recall and fscore using precision_recall_fscore_support nethod of sklearn.\n",
    "prec , recal , fscore,_ = precision_recall_fscore_support(y_test, yhat)\n",
    "print(prec, recal, fscore)"
   ]
  },
  {
   "cell_type": "markdown",
   "metadata": {},
   "source": [
    "You can compare the values of precision, recall and fscore using the methods you wrote and using sklearn method.\n",
    "To match the values of precision, recall and fscore using both methods, you will have to try different values of threshold in your method."
   ]
  },
  {
   "cell_type": "markdown",
   "metadata": {},
   "source": [
    "# Regularization\n",
    "\n",
    "Question 4 of the written assignment portion:\n",
    "- Modify your lab for logistic regression to now include ridge regression\n",
    "- Add to this lab 5 fold cross validation\n",
    "- Add confusion Matrix"
   ]
  },
  {
   "cell_type": "code",
   "execution_count": 56,
   "metadata": {},
   "outputs": [
    {
     "name": "stdout",
     "output_type": "stream",
     "text": [
      "Optimal Round: 3\n",
      "Optimal Lambda: 0.4229242874389499\n",
      "Optimal Score: 1.0\n",
      "Optimal Coefficiants: [[ 0.19538279  0.02441273 -0.28551651  0.13116921 -0.03555937  0.37244861\n",
      "  -0.16743863 -0.23659015  0.03707835  0.0200538  -0.34649613  0.03180493\n",
      "   0.0559331   0.18336939 -0.0997502  -0.03562087  0.17074315 -0.084088\n",
      "  -0.00927225  0.06025675 -0.99996196 -0.17660609 -0.14389716  0.75531302\n",
      "   0.01707617  0.06542849 -0.11300781 -0.09026116 -0.12724142 -0.20934342]]\n",
      "\n",
      "Confusion Matrix (for entire dataset)\n",
      "[[356  17]\n",
      " [195   1]]\n"
     ]
    }
   ],
   "source": [
    "from sklearn.model_selection import KFold\n",
    "from sklearn.linear_model import RidgeClassifier\n",
    "\n",
    "# 5 fold cross validation\n",
    "kf = KFold(n_splits=5)\n",
    "\n",
    "# Initialize alphas \n",
    "nalpha = 100\n",
    "alphas = np.logspace(-3,1,nalpha)\n",
    "\n",
    "alphaScores = []\n",
    "Scores = []\n",
    "coeffs = []\n",
    "\n",
    "for train_index, test_index in kf.split(x_scale):\n",
    "    X_train, X_test = x_scale[train_index], x_scale[test_index]\n",
    "    y_train, y_test = y[train_index], y[test_index]\n",
    "    \n",
    "    ridgereg = RidgeClassifier(fit_intercept=True)\n",
    "    \n",
    "    scoresInd = []\n",
    "    coeffsInd = []\n",
    "    \n",
    "    for a in alphas :\n",
    "        ridgereg.set_params(alpha=a)\n",
    "        ridgereg.fit(X_train, y_train)\n",
    "        scoresInd.append(ridgereg.score(X_test, y_test))\n",
    "        coeffsInd.append(ridgereg.coef_)\n",
    "    \n",
    "    opt_alpha = alphas[np.argmax(scoresInd)]\n",
    "    opt_score = scoresInd[np.argmax(scoresInd)]\n",
    "    opt_coeffs = coeffsInd[np.argmax(scoresInd)]\n",
    "    \n",
    "    alphaScores.append(opt_alpha)\n",
    "    Scores.append(opt_score)\n",
    "    coeffs.append(opt_coeffs)\n",
    "\n",
    "optimal_round = np.argmax(Scores)\n",
    "print(\"Optimal Round:\", optimal_round)\n",
    "print(\"Optimal Lambda:\", alphaScores[optimal_round])\n",
    "print(\"Optimal Score:\", Scores[optimal_round])\n",
    "print(\"Optimal Coefficiants:\", coeffs[optimal_round])\n",
    "\n",
    "i = -1\n",
    "for train_index, test_index in kf.split(x_scale):\n",
    "    i += 1\n",
    "    if i == optimal_round:\n",
    "        X_train, X_test = x_scale[train_index], x_scale[test_index]\n",
    "        y_train, y_test = y[train_index], y[test_index]\n",
    "    \n",
    "        ridgereg = RidgeClassifier(fit_intercept=True, alpha=alphaScores[optimal_round])\n",
    "        ridgereg.fit(X_train, y_train)\n",
    "        yhat_test = ridgereg.predict(x_scale)\n",
    "        \n",
    "        tp = np.sum(np.logical_and(yhat_test == 1, y == 1))\n",
    "        fp = np.sum(np.logical_and(yhat_test == 1, y == 0))\n",
    "        tn = np.sum(np.logical_and(yhat_test == 0, y == 0))\n",
    "        fn = np.sum(np.logical_and(yhat_test == 0, y == 1))\n",
    "        \n",
    "        print(\"\\nConfusion Matrix (for entire dataset)\")\n",
    "        print(np.array([[tp, fp], [tn, fn]]))\n",
    "        "
   ]
  },
  {
   "cell_type": "code",
   "execution_count": null,
   "metadata": {},
   "outputs": [],
   "source": []
  }
 ],
 "metadata": {
  "kernelspec": {
   "display_name": "Python 3",
   "language": "python",
   "name": "python3"
  },
  "language_info": {
   "codemirror_mode": {
    "name": "ipython",
    "version": 3
   },
   "file_extension": ".py",
   "mimetype": "text/x-python",
   "name": "python",
   "nbconvert_exporter": "python",
   "pygments_lexer": "ipython3",
   "version": "3.6.5"
  }
 },
 "nbformat": 4,
 "nbformat_minor": 2
}
