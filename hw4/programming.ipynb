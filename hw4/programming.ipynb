{
 "cells": [
  {
   "cell_type": "markdown",
   "metadata": {},
   "source": [
    "# Programming Assignment Logistic Regression\n",
    "Breast Cancer Prediction"
   ]
  },
  {
   "cell_type": "code",
   "execution_count": 3,
   "metadata": {},
   "outputs": [],
   "source": [
    "#Import Important Libraries\n",
    "from sklearn.datasets import load_breast_cancer # taking included data set from Sklearn http://scikit-learn.org/stable/modules/generated/sklearn.datasets.load_breast_cancer.html\n",
    "from sklearn.linear_model import LogisticRegression # importing Sklearn's logistic regression's module\n",
    "from sklearn import preprocessing # preprossing is what we do with the data before we run the learning algorithm\n",
    "from sklearn.model_selection import train_test_split \n",
    "import numpy as np\n",
    "\n",
    "import matplotlib.pyplot as plt\n",
    "%matplotlib inline"
   ]
  },
  {
   "cell_type": "code",
   "execution_count": 10,
   "metadata": {},
   "outputs": [],
   "source": [
    "# Loading Dataset\n",
    "cancer = load_breast_cancer()"
   ]
  },
  {
   "cell_type": "markdown",
   "metadata": {},
   "source": [
    "# Data Pre-Processing\n",
    "Scale before splitting the data into train and test- scale the data since we will be using gradient ascent"
   ]
  },
  {
   "cell_type": "code",
   "execution_count": 112,
   "metadata": {},
   "outputs": [],
   "source": [
    "x_scale = preprocessing.scale(cancer.data)\n",
    "y = cancer.target\n",
    "x_train, x_test, y_train, y_test = train_test_split(x_scale, y, test_size=0.25)"
   ]
  },
  {
   "cell_type": "code",
   "execution_count": 113,
   "metadata": {},
   "outputs": [
    {
     "name": "stdout",
     "output_type": "stream",
     "text": [
      "['mean radius' 'mean texture' 'mean perimeter' 'mean area'\n",
      " 'mean smoothness' 'mean compactness' 'mean concavity'\n",
      " 'mean concave points' 'mean symmetry' 'mean fractal dimension'\n",
      " 'radius error' 'texture error' 'perimeter error' 'area error'\n",
      " 'smoothness error' 'compactness error' 'concavity error'\n",
      " 'concave points error' 'symmetry error' 'fractal dimension error'\n",
      " 'worst radius' 'worst texture' 'worst perimeter' 'worst area'\n",
      " 'worst smoothness' 'worst compactness' 'worst concavity'\n",
      " 'worst concave points' 'worst symmetry' 'worst fractal dimension']\n"
     ]
    }
   ],
   "source": [
    "# Printing Names of the Features used for prediction.\n",
    "print(cancer.feature_names)"
   ]
  },
  {
   "cell_type": "markdown",
   "metadata": {},
   "source": [
    "# Implementing Logistic Regression Using Gradient Ascent"
   ]
  },
  {
   "cell_type": "code",
   "execution_count": 114,
   "metadata": {},
   "outputs": [],
   "source": [
    "# Write code that computes sigmoid of z. Remember sigmoid can be scalar or a matrix.\n",
    "def sigmoid(z):\n",
    "    return np.exp(z) / (np.exp(z) + 1)"
   ]
  },
  {
   "cell_type": "code",
   "execution_count": 115,
   "metadata": {},
   "outputs": [
    {
     "name": "stdout",
     "output_type": "stream",
     "text": [
      "0.5\n"
     ]
    }
   ],
   "source": [
    "# Sigmoid of 0 should be equal to half.\n",
    "print(sigmoid(0))"
   ]
  },
  {
   "cell_type": "code",
   "execution_count": 205,
   "metadata": {},
   "outputs": [
    {
     "name": "stdout",
     "output_type": "stream",
     "text": [
      "(426, 31)\n"
     ]
    }
   ],
   "source": [
    "# Appending a Column of Ones in x_train.\n",
    "# ones is a vector of shape n,1\n",
    "ones = np.ones((x_train.shape[0],1))\n",
    "# Append a column of ones in the beginning of x_train an save in variable a.\n",
    "a=np.hstack((ones, x_train))\n",
    "print(a.shape)"
   ]
  },
  {
   "cell_type": "code",
   "execution_count": 261,
   "metadata": {},
   "outputs": [],
   "source": [
    "# Initialize Parameter Vector w: A vector of shape x_train.shape[1],1\n",
    "w = np.zeros((a.shape[1], 1))"
   ]
  },
  {
   "cell_type": "code",
   "execution_count": 262,
   "metadata": {},
   "outputs": [],
   "source": [
    "# Hypothesis Function. Write code that computes hypothesis using a and w.\n",
    "def hypothesis(a , w):\n",
    "    return sigmoid(-1 * w.T.dot(a.T))"
   ]
  },
  {
   "cell_type": "code",
   "execution_count": 263,
   "metadata": {},
   "outputs": [],
   "source": [
    "# Computing Predicted Values.\n",
    "yhat = hypothesis(a, w)"
   ]
  },
  {
   "cell_type": "markdown",
   "metadata": {},
   "source": [
    "# Likelihood Function.\n",
    "Write the code to calculate the log likelihood as discussed in the class."
   ]
  },
  {
   "cell_type": "code",
   "execution_count": 264,
   "metadata": {},
   "outputs": [],
   "source": [
    "def likelihood(X_tr , Y_tr , w , n):\n",
    "    \n",
    "    yhat = hypothesis(X_tr, w)\n",
    "    likelihood = np.sum(Y_tr * np.log(yhat) + (1 - Y_tr) * np.log(1 - yhat))\n",
    "    \n",
    "    return likelihood"
   ]
  },
  {
   "cell_type": "code",
   "execution_count": 265,
   "metadata": {},
   "outputs": [
    {
     "name": "stdout",
     "output_type": "stream",
     "text": [
      "-295.2806989185367\n"
     ]
    }
   ],
   "source": [
    "# Before moving ahead, run this cell\n",
    "print(likelihood(a,y_train,w,a.shape[0]))"
   ]
  },
  {
   "cell_type": "markdown",
   "metadata": {},
   "source": [
    "The value should be equal to -295.2806989185367. If this matches, your code is likely to be correct."
   ]
  },
  {
   "cell_type": "markdown",
   "metadata": {},
   "source": [
    "# Gradient Ascent"
   ]
  },
  {
   "cell_type": "code",
   "execution_count": 266,
   "metadata": {},
   "outputs": [],
   "source": [
    "# Write the function that performs Gradient Ascent.\n",
    "def Gradient_Ascent(a, y, learning_rate, num_iters):\n",
    "    n = a.shape[0] # Number of training examples.\n",
    "    # Initialize w. Zeros vector of shape x_train.shape[1],1\n",
    "    w = np.zeros((a.shape[1], 1))\n",
    "    # Reshape y to be a rank 2 matrix.\n",
    "    y = y.reshape((y.shape[0],1))\n",
    "    # Initiating list to store values of likelihood after few iterations.\n",
    "    likelihood_values = []\n",
    "    for i in range(num_iters):\n",
    "        yhat = hypothesis(a, w)\n",
    "        error = None\n",
    "        gradient = a.T.dot(np.subtract(y, yhat))\n",
    "        # Updating Parameters\n",
    "        w = w + (learning_rate / n) * gradient\n",
    "        if(i % 100 == 0):\n",
    "            likelihood_values.append(likelihood(a,y,w,n))\n",
    "        \n",
    "    return w, likelihood_values"
   ]
  },
  {
   "cell_type": "code",
   "execution_count": 267,
   "metadata": {},
   "outputs": [
    {
     "name": "stdout",
     "output_type": "stream",
     "text": [
      "[-125795.21213089056, -132647.7527966952, -150303.76214845318, -175909.11494612033, -207146.29423231888, -242328.39737649614, -280257.0423589211, -320098.36387040664, -361280.35078553634, -403412.8948576843]\n"
     ]
    }
   ],
   "source": [
    "# Call Gradient_Ascent method by passing appropriate values of learning rate and num_iterations.\n",
    "learning_rate = 0.001\n",
    "num_iters = 1000\n",
    "w, likelihood_values = Gradient_Ascent(a, y_train, learning_rate, num_iters)\n",
    "print((likelihood_values))"
   ]
  },
  {
   "cell_type": "markdown",
   "metadata": {},
   "source": [
    "# Plotting Likelihood v/s Number of Iterations."
   ]
  },
  {
   "cell_type": "code",
   "execution_count": 268,
   "metadata": {},
   "outputs": [
    {
     "data": {
      "image/png": "[encoded data removed]",
      "text/plain": [
       "<Figure size 432x288 with 1 Axes>"
      ]
     },
     "metadata": {},
     "output_type": "display_data"
    }
   ],
   "source": [
    "# Run this cell to plot Likelihood v/s Number of Iterations.\n",
    "iters = np.array(range(0,num_iters,100))\n",
    "plt.plot(iters,likelihood_values,'.-',color='green')\n",
    "plt.xlabel('Number of iterations')\n",
    "plt.ylabel('Likelihood')\n",
    "plt.title(\"Likelihood vs Number of Iterations.\")\n",
    "plt.grid()"
   ]
  },
  {
   "cell_type": "markdown",
   "metadata": {},
   "source": [
    "You should see the likelihood increasing as number of Iterations increase."
   ]
  },
  {
   "cell_type": "code",
   "execution_count": 269,
   "metadata": {},
   "outputs": [],
   "source": [
    "# Write the function to compute predicted values using a and w.\n",
    "def predict(a, w):\n",
    "    yhat = hypothesis(np.hstack((np.ones((a.shape[0],1)), a)), w)\n",
    "    \n",
    "    return yhat"
   ]
  },
  {
   "cell_type": "code",
   "execution_count": 270,
   "metadata": {},
   "outputs": [],
   "source": [
    "yhat = predict(x_test, w)"
   ]
  },
  {
   "cell_type": "code",
   "execution_count": 237,
   "metadata": {},
   "outputs": [],
   "source": [
    "# Read the comments in the function carefully.\n",
    "def precision_recall(yhat, y , threshold):\n",
    "    # Write code to compute precision and recall\n",
    "    # Before finding precision or recall, you have to convert yhat into a vector of zeros and ones using threshold.\n",
    "    # Values in yhat > threshold should be equal to 1 and others should be 0.\n",
    "    yhat[yhat > threshold] = 1\n",
    "    yhat[yhat <= threshold] = 0\n",
    "    \n",
    "    tp = np.sum(np.logical_and(yhat == 1, y == 1))\n",
    "    fp = np.sum(np.logical_and(yhat == 1, y == 0))\n",
    "    fn = np.sum(np.logical_and(yhat == 0, y == 1))\n",
    "    \n",
    "    precision = tp / (tp + fp)\n",
    "    recall = tp / (tp + fn)\n",
    "    \n",
    "    return precision,recall"
   ]
  },
  {
   "cell_type": "code",
   "execution_count": 280,
   "metadata": {},
   "outputs": [],
   "source": [
    "precision, recall = precision_recall(yhat, y_test, 0.1)"
   ]
  },
  {
   "cell_type": "code",
   "execution_count": 281,
   "metadata": {},
   "outputs": [
    {
     "data": {
      "text/plain": [
       "0.9651162790697674"
      ]
     },
     "execution_count": 281,
     "metadata": {},
     "output_type": "execute_result"
    }
   ],
   "source": [
    "def f_score(precision, recall):\n",
    "    return 2*(recall * precision) / (recall + precision)\n",
    "\n",
    "f_score(precision, recall)"
   ]
  },
  {
   "cell_type": "markdown",
   "metadata": {},
   "source": [
    "# Fitting Model using Sk Learn Library. "
   ]
  },
  {
   "cell_type": "code",
   "execution_count": 271,
   "metadata": {},
   "outputs": [],
   "source": [
    "# Create object of logistic regression model. Pass a large value of C as C = 1/lambda.\n",
    "# So, lambda will become nearly 0.\n",
    "logreg = LogisticRegression(C=10000)"
   ]
  },
  {
   "cell_type": "code",
   "execution_count": 273,
   "metadata": {},
   "outputs": [],
   "source": [
    "# Fitting the training set. # Write code to fit the model on the training set.\n",
    "# Don't use matrix a. Instead, use x_train.\n",
    "logreg = logreg.fit(x_train, y_train)"
   ]
  },
  {
   "cell_type": "code",
   "execution_count": 277,
   "metadata": {},
   "outputs": [
    {
     "name": "stdout",
     "output_type": "stream",
     "text": [
      "Accuracy on training data = 0.958042\n"
     ]
    }
   ],
   "source": [
    "# Find the predicted values on training set using logreg.predict\n",
    "# Here, it will return a vector of zeros and ones.\n",
    "yhat = logreg.predict(x_test)\n",
    "# Find the accuracy achieved on training set.\n",
    "acc = logreg.score(x_test, y_test)\n",
    "print(\"Accuracy on training data = %f\" % acc)"
   ]
  },
  {
   "cell_type": "code",
   "execution_count": 275,
   "metadata": {},
   "outputs": [],
   "source": [
    "# Printing the parameters.\n",
    "# Retrieving the parameters computed by logreg.\n",
    "w = logreg.coef_\n",
    "intercept = logreg.intercept_\n",
    "# You can compare the parameters computed by logreg model and gradient ascent. They should be nearly same."
   ]
  },
  {
   "cell_type": "markdown",
   "metadata": {},
   "source": [
    "# Performance Metrics:\n"
   ]
  },
  {
   "cell_type": "code",
   "execution_count": 279,
   "metadata": {},
   "outputs": [
    {
     "name": "stdout",
     "output_type": "stream",
     "text": [
      "[0.93103448 0.97647059] [0.96428571 0.95402299] [0.94736842 0.96511628]\n"
     ]
    }
   ],
   "source": [
    "from sklearn.metrics import precision_recall_fscore_support\n",
    "# Find Precision, recall and fscore using precision_recall_fscore_support nethod of sklearn.\n",
    "prec , recal , fscore,_ = precision_recall_fscore_support(y_test, yhat)\n",
    "print(prec, recal, fscore)"
   ]
  },
  {
   "cell_type": "markdown",
   "metadata": {},
   "source": [
    "You can compare the values of precision, recall and fscore using the methods you wrote and using sklearn method.\n",
    "To match the values of precision, recall and fscore using both methods, you will have to try different values of threshold in your method."
   ]
  },
  {
   "cell_type": "markdown",
   "metadata": {},
   "source": [
    "# Regularization"
   ]
  },
  {
   "cell_type": "code",
   "execution_count": null,
   "metadata": {},
   "outputs": [],
   "source": []
  }
 ],
 "metadata": {
  "kernelspec": {
   "display_name": "Python 3",
   "language": "python",
   "name": "python3"
  },
  "language_info": {
   "codemirror_mode": {
    "name": "ipython",
    "version": 3
   },
   "file_extension": ".py",
   "mimetype": "text/x-python",
   "name": "python",
   "nbconvert_exporter": "python",
   "pygments_lexer": "ipython3",
   "version": "3.6.5"
  }
 },
 "nbformat": 4,
 "nbformat_minor": 2
}
